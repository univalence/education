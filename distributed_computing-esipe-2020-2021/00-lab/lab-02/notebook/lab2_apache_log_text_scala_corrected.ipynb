{
 "cells": [
  {
   "cell_type": "markdown",
   "metadata": {},
   "source": [
    "![Spark Logo](http://spark-mooc.github.io/web-assets/images/ta_Spark-logo-small.png)"
   ]
  },
  {
   "cell_type": "markdown",
   "metadata": {},
   "source": [
    "# Distributed computation\n",
    "## ESIPE — INFO 3 — Option Logiciel"
   ]
  },
  {
   "cell_type": "markdown",
   "metadata": {},
   "source": [
    "# Lab 2 : Web Server Log Analysis with Apache Spark\n",
    "\n",
    "This lab will demonstrate how easy it is to perform web server log analysis with Apache Spark.\n",
    "\n",
    " \n",
    "Server log analysis is an ideal use case for Spark.  It's a very large, common data source and contains a rich set of information.  Spark allows you to store your logs in files on disk cheaply, while still providing a quick and simple way to perform data analysis on them.  This homework will show you how to use Apache Spark on real-world text-based production logs and fully harness the power of that data.  Log data comes from many sources, such as web, file, and compute servers, application logs, user-generated content,  and can be used for monitoring servers, improving business and customer intelligence, building recommendation systems, fraud detection, and much more.\n"
   ]
  },
  {
   "cell_type": "markdown",
   "metadata": {},
   "source": [
    "## How to complete this lab\n",
    "\n",
    " This assignment is broken up into sections with bite-sized examples for demonstrating Spark functionality for log processing. For each problem, you should start by thinking about the algorithm that you will use to *efficiently* process the log in a parallel, distributed manner. This means using the various [RDD](https://spark.apache.org/docs/latest/api/scala/index.html#org.apache.spark.rdd.RDD) operations along with [`lambda` functions](https://docs.scala-lang.org/overviews/scala-book/anonymous-functions.html#inner-main) that are applied at each worker.\n",
    "\n",
    " \n",
    "This assignment consists of 4 parts:\n",
    "\n",
    "- Part 1 : Apache Web Server Log file format\n",
    "- Part 2 : Sample Analyses on the Web Server Log File with Spark Core\n",
    "- Part 3 : Analyzing Web Server Log File with Spark SQL\n",
    "- Part 4 : Exploring 404 Response Codes\n",
    "\n"
   ]
  },
  {
   "cell_type": "markdown",
   "metadata": {},
   "source": [
    "##  Prerequisites : Spark Context configuration "
   ]
  },
  {
   "cell_type": "code",
   "execution_count": 1,
   "metadata": {},
   "outputs": [
    {
     "data": {
      "text/plain": [
       "spark = org.apache.spark.sql.SparkSession@7781eaad\n",
       "sc = org.apache.spark.SparkContext@3e5b9544\n"
      ]
     },
     "metadata": {},
     "output_type": "display_data"
    },
    {
     "data": {
      "text/plain": [
       "org.apache.spark.SparkContext@3e5b9544"
      ]
     },
     "execution_count": 1,
     "metadata": {},
     "output_type": "execute_result"
    }
   ],
   "source": [
    "import org.apache.spark.sql._\n",
    "\n",
    "val spark = SparkSession.builder\n",
    ".appName(\"lab2_apache_log_text\")\n",
    ".master(\"local[*]\")\n",
    ".getOrCreate()\n",
    "val sc = spark.sparkContext"
   ]
  },
  {
   "cell_type": "markdown",
   "metadata": {},
   "source": [
    "# Part 1 : Apache Web Server Log file format\n",
    "\n",
    "If you're familiar with web servers at all, you'll recognize that this is in [Common Log Format](https://www.w3.org/Daemon/User/Config/Logging.html#common-logfile-format). The fields are:\n",
    "\n",
    "_remotehost rfc931 authuser [date] \"request\" status bytes_\n",
    "\n",
    "| field         | meaning                                                                |\n",
    "| ------------- | ---------------------------------------------------------------------- |\n",
    "| _remotehost_  | Remote hostname (or IP number if DNS hostname is not available).       |\n",
    "| _rfc931_      | The remote logname of the user. We don't really care about this field. |\n",
    "| _authuser_    | The username of the remote user, as authenticated by the HTTP server.  |\n",
    "| _[date]_      | The date and time of the request.                                      |\n",
    "| _\"request\"_   | The request, exactly as it came from the browser or client.            |\n",
    "| _status_      | The HTTP status code the server sent back to the client.               |\n",
    "| _bytes_       | The number of bytes (`Content-Length`) transferred to the client.      |\n",
    "\n",
    "\n",
    "\n",
    "The log file entries produced in CLF will look something like this:\n",
    "\n",
    "`127.0.0.1 - - [01/Aug/1995:00:00:01 -0400] \"GET /images/launch-logo.gif HTTP/1.0\" 200 1839`\n",
    " \n",
    "Each part of this log entry is described below.\n",
    "\n",
    "* `127.0.0.1`\n",
    "This is the IP address (or host name, if available) of the client (remote host) which made the request to the server.\n",
    "\n",
    " \n",
    "* `-`\n",
    "The \"hyphen\" in the output indicates that the requested piece of information (user identity from remote machine) is not available.\n",
    "\n",
    " \n",
    "* `-`\n",
    "The \"hyphen\" in the output indicates that the requested piece of information (user identity from local logon) is not available.\n",
    "\n",
    " \n",
    "* `[01/Aug/1995:00:00:01 -0400]`\n",
    "The time that the server finished processing the request. The format is:\n",
    "\n",
    "`[day/month/year:hour:minute:second timezone]`\n",
    "  * day = 2 digits\n",
    "  * month = 3 letters\n",
    "  * year = 4 digits\n",
    "  * hour = 2 digits\n",
    "  * minute = 2 digits\n",
    "  * second = 2 digits\n",
    "  * zone = (\\+ | \\-) 4 digits\n",
    " \n",
    "* `\"GET /images/launch-logo.gif HTTP/1.0\"`\n",
    "This is the first line of the request string from the client. It consists of a three components: the request method (e.g., `GET`, `POST`, etc.), the endpoint (a [Uniform Resource Identifier](http://en.wikipedia.org/wiki/Uniform_resource_identifier)), and the client protocol version.\n",
    "\n",
    " \n",
    "* `200`\n",
    "This is the status code that the server sends back to the client. This information is very valuable, because it reveals whether the request resulted in a successful response (codes beginning in 2), a redirection (codes beginning in 3), an error caused by the client (codes beginning in 4), or an error in the server (codes beginning in 5). The full list of possible status codes can be found in the HTTP specification ([RFC 2616](https://www.ietf.org/rfc/rfc2616.txt) section 10).\n",
    "\n",
    " \n",
    "* `1839`\n",
    "The last entry indicates the size of the object returned to the client, not including the response headers. If no content was returned to the client, this value will be \"-\" (or sometimes 0).\n",
    "\n",
    " \n",
    "Note that log files contain information supplied directly by the client, without escaping. Therefore, it is possible for malicious clients to insert control-characters in the log files, *so care must be taken in dealing with raw logs.*\n",
    "\n",
    " \n",
    "## NASA-HTTP Web Server Log\n",
    "For this assignment, we will use a data set from NASA Kennedy Space Center WWW server in Florida. The full data set is freely available (http://ita.ee.lbl.gov/html/contrib/NASA-HTTP.html) and contains two month's of all HTTP requests. We are using a subset that only contains several days worth of requests.\n",
    "\n"
   ]
  },
  {
   "cell_type": "markdown",
   "metadata": {},
   "source": [
    "## 1. Parsing Each Log Line\n",
    "Using the CLF as defined above, we create a regular expression pattern to extract the nine fields of the log. The function returns a pair consisting of a Row object and 1. If the log line fails to match the regular expression, the function returns a pair consisting of the log line string and 0. A '-' value in the content size field is cleaned up by substituting it with 0. The function converts the log line's date string into a `java.sql.Timestamp` object using the given `parse_apache_time` function.\n"
   ]
  },
  {
   "cell_type": "markdown",
   "metadata": {},
   "source": [
    "We first define the case class `Log` which will be the structure of our log."
   ]
  },
  {
   "cell_type": "code",
   "execution_count": 2,
   "metadata": {},
   "outputs": [
    {
     "data": {
      "text/plain": [
       "defined class Log\n"
      ]
     },
     "metadata": {},
     "output_type": "display_data"
    }
   ],
   "source": [
    "import java.sql.Timestamp\n",
    "case class Log(\n",
    "                host          : String,\n",
    "                client_identd : String,\n",
    "                user_id       : String,\n",
    "                date_time     : Timestamp,\n",
    "                method        : String,\n",
    "                endpoint      : String,\n",
    "                protocol      : String,\n",
    "                response_code : Int,\n",
    "                content_size  : Int\n",
    ")"
   ]
  },
  {
   "cell_type": "code",
   "execution_count": 3,
   "metadata": {},
   "outputs": [
    {
     "data": {
      "text/plain": [
       "month_map = Map(Nov -> 11, Jul -> 7, Mar -> 3, Jan -> 1, Oct -> 10, Dec -> 12, Feb -> 2, May -> 5, Apr -> 4, Aug -> 8, Sep -> 9, Jun -> 6)\n",
       "APACHE_ACCESS_LOG_PATTERN = ^(\\S+) (\\S+) (\\S+) \\[([\\w:/]+\\s[+\\-]\\d{4})\\] \"(\\S+) (\\S+)\\s*(\\S*)\\s*\" (\\d{3}) (\\S+)\n",
       "parseApacheLogLine = > (java.io.Serializable, Int) = <function1>\n"
      ]
     },
     "metadata": {},
     "output_type": "display_data"
    },
    {
     "data": {
      "text/plain": [
       "parse_apache_time: (s: String)java.sql.Timestamp\n"
      ]
     },
     "metadata": {},
     "output_type": "display_data"
    },
    {
     "data": {
      "text/plain": [
       "> (java.io.Serializable, Int) = <function1>"
      ]
     },
     "execution_count": 3,
     "metadata": {},
     "output_type": "execute_result"
    }
   ],
   "source": [
    "import scala.util.matching.Regex\n",
    "//import datetime\n",
    "\n",
    "//import org.apache.spark.sql.Row\n",
    "\n",
    "val month_map = Map(\"Jan\"-> 1, \"Feb\"-> 2, \"Mar\"->3, \"Apr\"->4, \"May\"->5, \"Jun\"->6, \"Jul\"->7,\n",
    "  \"Aug\"->8,  \"Sep\"-> 9, \"Oct\"->10, \"Nov\"-> 11, \"Dec\"-> 12)\n",
    "\n",
    "def parse_apache_time(s: String) = {\n",
    "    /* Convert Apache time format into a Timestamp object\n",
    "    Args:\n",
    "        s (str): date and time in Apache time format\n",
    "    Returns:\n",
    "        datetime: Timestamp object (ignore timezone for now)\n",
    "    */\n",
    "    val year = s.substring(7,11).toInt\n",
    "    val month = month_map(s.substring(3,6))\n",
    "    val day = s.substring(0,2).toInt\n",
    "    val hour = s.substring(12,14).toInt\n",
    "    val min = s.substring(15,17).toInt\n",
    "    val sec = s.substring(18,20).toInt\n",
    "    Timestamp.valueOf(s\"${year}-${month}-${day} ${hour}:${min}:${sec}\")\n",
    "}\n",
    "                             \n",
    "//A regular expression pattern to extract fields from the log line\n",
    "val APACHE_ACCESS_LOG_PATTERN = new Regex(\"\"\"^(\\S+) (\\S+) (\\S+) \\[([\\w:/]+\\s[+\\-]\\d{4})\\] \"(\\S+) (\\S+)\\s*(\\S*)\\s*\" (\\d{3}) (\\S+)\"\"\")\n",
    "\n",
    "val parseApacheLogLine = (logline : String) => {\n",
    "    /* Parse a line in the Apache Common Log format\n",
    "    Args:\n",
    "        logline (str): a line of text in the Apache Common Log format\n",
    "    Returns:\n",
    "        tuple: either a dictionary containing the parts of the Apache Access Log and 1,\n",
    "               or the original invalid log line and 0\n",
    "    */\n",
    "    logline match {\n",
    "        case APACHE_ACCESS_LOG_PATTERN(host, client_identd, user_id, date_time, method, endpoint, protocol, response_code, content_size) => {\n",
    "            (Log(\n",
    "                host,\n",
    "                client_identd,\n",
    "                user_id,\n",
    "                parse_apache_time(date_time),\n",
    "                method,\n",
    "                endpoint,\n",
    "                protocol,\n",
    "                response_code.toInt,\n",
    "                if (content_size == \"-\") 0 else content_size.toInt\n",
    "            ),1)\n",
    "        }\n",
    "        case _ => (logline, 0)\n",
    "\n",
    "    }\n",
    "}"
   ]
  },
  {
   "cell_type": "markdown",
   "metadata": {},
   "source": [
    "## 2. Configuration and Initial RDD Creation\n",
    "We are ready to specify the input log file and create an RDD containing the parsed log file data. The log file has already been downloaded for you.\n",
    "\n",
    " \n",
    "To create the primary RDD that we'll use in the rest of this assignment, we first load the text file using [`sc.textfile(logFile)`](https://spark.apache.org/docs/latest/api/scala/index.html#org.apache.spark.SparkContext@textFile(path:String,minPartitions:Int):org.apache.spark.rdd.RDD[String]) to convert each line of the file into an element in an RDD.\n",
    "\n",
    "Next, we use [`map(parseApacheLogLine)`](https://spark.apache.org/docs/latest/api/scala/index.html#org.apache.spark.rdd.RDD@map[U](f:T=%3EU)(implicitevidence$3:scala.reflect.ClassTag[U]):org.apache.spark.rdd.RDD[U]) to apply the parse function to each element (that is, a line from the log file) in the RDD and turn each line into a pair with the [`Log` case class].\n",
    "\n",
    "Finally, we cache the RDD in memory since we'll use it throughout this notebook.\n",
    "\n"
   ]
  },
  {
   "cell_type": "code",
   "execution_count": 4,
   "metadata": {},
   "outputs": [
    {
     "name": "stdout",
     "output_type": "stream",
     "text": [
      "Read 1000 lines, successfully parsed 1000 lines, failed to parse 0 lines\n"
     ]
    },
    {
     "data": {
      "text/plain": [
       "logFile = ../data/apache.access.log.PROJECT.lite\n",
       "parsed_logs = MapPartitionsRDD[2] at map at <console>:43\n",
       "access_logs = MapPartitionsRDD[4] at map at <console>:48\n",
       "failed_logs = MapPartitionsRDD[6] at map at <console>:53\n"
      ]
     },
     "metadata": {},
     "output_type": "display_data"
    },
    {
     "data": {
      "text/plain": [
       "parseLogs: ()(org.apache.spark.rdd.RDD[(java.io.Serializable, Int)], org.apache.spark.rdd.RDD[Log], org.apache.spark.rdd.RDD[String])\n"
      ]
     },
     "metadata": {},
     "output_type": "display_data"
    },
    {
     "data": {
      "text/plain": [
       "MapPartitionsRDD[6] at map at <console>:53"
      ]
     },
     "execution_count": 4,
     "metadata": {},
     "output_type": "execute_result"
    }
   ],
   "source": [
    "import org.apache.spark.rdd.RDD\n",
    "val logFile = \"../data/apache.access.log.PROJECT.lite\"\n",
    "\n",
    "def parseLogs() = {\n",
    "    // Read and parse log file \n",
    "    val parsed_logs  = sc\n",
    "                       .textFile(logFile)\n",
    "                       .map(parseApacheLogLine)\n",
    "                       .cache()\n",
    "\n",
    "    val access_logs : RDD[Log] = parsed_logs\n",
    "                       .filter(s => s._2 == 1)\n",
    "                       .map(s => s._1.asInstanceOf[Log])\n",
    "                       .cache()\n",
    "\n",
    "    val failed_logs : RDD[String]  = (parsed_logs\n",
    "                       .filter(s => s._2 == 0)\n",
    "                       .map(s => s._1.asInstanceOf[String]))\n",
    "    \n",
    "    val failed_logs_count = failed_logs.count()\n",
    "    \n",
    "    if (failed_logs_count > 0) {\n",
    "        println(s\"Number of invalid logline: ${failed_logs.count()}\")\n",
    "        failed_logs.take(20).foreach(line => println(s\"Invalid logline: ${line}\"))\n",
    "    }\n",
    "        \n",
    "    println(s\"Read ${parsed_logs.count()} lines, successfully parsed ${access_logs.count()} lines, failed to parse ${failed_logs.count()} lines\")\n",
    "    (parsed_logs, access_logs, failed_logs)\n",
    "}\n",
    "    \n",
    "\n",
    "val (parsed_logs, access_logs, failed_logs) = parseLogs()"
   ]
  },
  {
   "cell_type": "markdown",
   "metadata": {},
   "source": [
    "# Part 2 : Sample Analyses on the Web Server Log File with Spark Core\n",
    " \n",
    "Now that we have an RDD containing the log file as a set of Row objects, we can perform various analyses.\n",
    "\n",
    " \n",
    "## 1. Content Size Statistics\n",
    "\n",
    " \n",
    "Let's compute some statistics about the sizes of content being returned by the web server. In particular, we'd like to know what are the average, minimum, and maximum content sizes.\n",
    "\n",
    " \n",
    "We can compute the statistics by applying a `map` to the `access_logs` RDD. The `lambda` function we want for the map is to extract the `content_size` field from the RDD. The map produces a new RDD containing only the `content_sizes` (one element for each Row object in the `access_logs` RDD). To compute the minimum and maximum statistics, we can use [`min()`](https://spark.apache.org/docs/latest/api/scala/index.html#org.apache.spark.rdd.RDD@min()(implicitord:Ordering[T]):T) and [`max()`](https://spark.apache.org/docs/latest/api/scala/index.html#org.apache.spark.rdd.RDD@max()(implicitord:Ordering[T]):T) functions on the new RDD. We can compute the average statistic by using the [`reduce`](https://spark.apache.org/docs/latest/api/scala/index.html#org.apache.spark.rdd.RDD@reduce(f:(T,T)=%3ET):T) function with a `lambda` function that sums the two inputs, which represent two elements from the new RDD that are being reduced together. The result of the `reduce()` is the total content size from the log and it is to be divided by the number of requests as determined using the [`count()`](https://spark.apache.org/docs/latest/api/scala/index.html#org.apache.spark.rdd.RDD@count():Long) function on the new RDD.\n",
    "\n"
   ]
  },
  {
   "cell_type": "code",
   "execution_count": 5,
   "metadata": {},
   "outputs": [
    {
     "name": "stdout",
     "output_type": "stream",
     "text": [
      "Content Size Avg: 16234, Min: 0, Max: 887988\n"
     ]
    },
    {
     "data": {
      "text/plain": [
       "content_sizes = MapPartitionsRDD[7] at map at <console>:37\n",
       "content_sizes_mean = 16233.652999999995\n",
       "content_sizes_min = 0\n",
       "content_sizes_max = 887988\n"
      ]
     },
     "metadata": {},
     "output_type": "display_data"
    },
    {
     "data": {
      "text/plain": [
       "887988"
      ]
     },
     "execution_count": 5,
     "metadata": {},
     "output_type": "execute_result"
    }
   ],
   "source": [
    "// TODO: Replace ??? with appropriate code\n",
    "// Calculate statistics based on the content size\n",
    "// HINT : RDD has been indexed in function parseApacheLogLine(). \n",
    "// You can now access content sizes using attribute .content_size\n",
    "val content_sizes = access_logs.map(log => log.content_size).cache()\n",
    "val content_sizes_mean = content_sizes.mean()\n",
    "val content_sizes_min = content_sizes.min()\n",
    "val content_sizes_max = content_sizes.max()\n",
    "println(s\"Content Size Avg: ${content_sizes_mean.round}, Min: ${content_sizes_min}, Max: ${content_sizes_max}\")"
   ]
  },
  {
   "cell_type": "markdown",
   "metadata": {},
   "source": [
    "Creating the function for the tests"
   ]
  },
  {
   "cell_type": "code",
   "execution_count": 6,
   "metadata": {},
   "outputs": [
    {
     "data": {
      "text/plain": [
       "assertEquals: [A](expected: A, answer: A, error: String)Any\n"
      ]
     },
     "metadata": {},
     "output_type": "display_data"
    }
   ],
   "source": [
    "def assertEquals[A](expected : A, answer : A, error : String) = {\n",
    "    if (expected equals answer) println(\"1 test passed\")\n",
    "    else error\n",
    "}"
   ]
  },
  {
   "cell_type": "code",
   "execution_count": 7,
   "metadata": {},
   "outputs": [
    {
     "data": {
      "text/plain": [
       "incorrect expected values"
      ]
     },
     "execution_count": 7,
     "metadata": {},
     "output_type": "execute_result"
    }
   ],
   "source": [
    "// TEST Content size statistics\n",
    "assertEquals((content_sizes_mean.round, content_sizes_min, content_sizes_max), (17532, 0, 3421948), \"incorrect expected values\")"
   ]
  },
  {
   "cell_type": "markdown",
   "metadata": {},
   "source": [
    "## 2. Response Code Analysis\n",
    "\n",
    "Next, lets make a count of the response codes that appear in the logs. As with the content size analysis, first we create a new RDD by using a `lambda` function to extract the `response_code` field from the `access_logs` RDD. The difference here is that we will use a [pair tuple](https://docs.scala-lang.org/tour/tuples.html) instead of just the field itself. Using a pair tuple consisting of the response code and 1 will let us count how many records have a particular response code. Using the new RDD, we perform a [`reduceByKey`](https://spark.apache.org/docs/latest/api/scala/index.html#org.apache.spark.rdd.PairRDDFunctions@reduceByKey(func:(V,V)=%3EV):org.apache.spark.rdd.RDD[(K,V)]) function. `reduceByKey` performs a reduce on a per-key basis by applying the `lambda` function to each element, pairwise with the same key. We use the simple `lambda` function of adding the two values. Then, we cache the resulting RDD and create a list by using the [`take`](https://spark.apache.org/docs/latest/api/scala/index.html#org.apache.spark.rdd.RDD@take(num:Int):Array[T]) function.\n",
    "\n",
    "_Note_ : The expected method is similar of the word count approach developed in last week TP."
   ]
  },
  {
   "cell_type": "code",
   "execution_count": 8,
   "metadata": {},
   "outputs": [
    {
     "name": "stdout",
     "output_type": "stream",
     "text": [
      "Found 4 response codes\n",
      "Response Code Counts: (404,2)(200,923)(302,16)(304,59)\n"
     ]
    },
    {
     "data": {
      "text/plain": [
       "responseCodeToCount = ShuffledRDD[11] at reduceByKey at <console>:38\n",
       "responseCodeToCountList = Array((404,2), (200,923), (302,16), (304,59))\n"
      ]
     },
     "metadata": {},
     "output_type": "display_data"
    },
    {
     "data": {
      "text/plain": [
       "Array((404,2), (200,923), (302,16), (304,59))"
      ]
     },
     "execution_count": 8,
     "metadata": {},
     "output_type": "execute_result"
    }
   ],
   "source": [
    "// TODO: Replace <FILL IN> with appropriate code\n",
    "// Make a Response Code repartition count.\n",
    "// HINT : you can access to the log response_code using attribute \".response_code\".\n",
    "\n",
    "val responseCodeToCount = access_logs.map(l => l.response_code -> 1)\n",
    "                            .reduceByKey(_ + _)\n",
    "val responseCodeToCountList = responseCodeToCount.collect()\n",
    "println(s\"Found ${responseCodeToCountList.length} response codes\")\n",
    "println(s\"Response Code Counts: ${responseCodeToCountList.mkString}\")"
   ]
  },
  {
   "cell_type": "code",
   "execution_count": null,
   "metadata": {},
   "outputs": [],
   "source": [
    "// TEST : Response Code Analysis\n",
    "assertEquals(responseCodeToCountList.toList.sorted, List((200, 940847), (302, 16244), (304, 79824), (403, 58), (404, 6185), (500, 2), (501, 17)), \"Incorrect response code analysis\")"
   ]
  },
  {
   "cell_type": "markdown",
   "metadata": {},
   "source": [
    "## 3. Response Code Graphing with `Vegas`\n",
    "Now, lets visualize the results from the last example. We can visualize the results from the last example using [`vegas`](https://www.vegas-viz.org/). First we need to extract the labels and fractions for the graph. We do this with two separate `map` functions with a `lambda` functions. The first `map` function extracts a list of of the response code values, and the second `map` function extracts a list of the per response code counts  divided by the total size of the access logs. Next, we creat the plot."
   ]
  },
  {
   "cell_type": "code",
   "execution_count": 9,
   "metadata": {},
   "outputs": [
    {
     "name": "stdout",
     "output_type": "stream",
     "text": [
      "404 200 302 304\n",
      "2,923,16,59\n"
     ]
    },
    {
     "data": {
      "text/plain": [
       "labels = Array(404, 200, 302, 304)\n",
       "rows_count = 1000\n",
       "fracs_count = Array(2, 923, 16, 59)\n"
      ]
     },
     "metadata": {},
     "output_type": "display_data"
    },
    {
     "data": {
      "text/plain": [
       "Array(2, 923, 16, 59)"
      ]
     },
     "execution_count": 9,
     "metadata": {},
     "output_type": "execute_result"
    }
   ],
   "source": [
    "// TODO: Replace ??? with appropriate code\n",
    "// Assign the response code labels using .map() and .collect() to \"labels\" variable.\n",
    "// Assign the number of rows to variable \"rows_count\"\n",
    "// Assign the proportional count to variable \"fracs_count\" (don't forget to collect).\n",
    "val labels = responseCodeToCount.map(_._1).collect\n",
    "val rows_count = access_logs.count\n",
    "val fracs_count = responseCodeToCount.map(_._2).collect\n",
    "println(labels.mkString(\" \"))\n",
    "println(fracs_count.mkString(\",\"))"
   ]
  },
  {
   "cell_type": "code",
   "execution_count": null,
   "metadata": {},
   "outputs": [],
   "source": [
    "// TEST : Response code graphing\n",
    "assertEquals(fracs_count.toList.sorted, List(1.9172201841106543e-06, 1.629637156494056e-05, 5.5599385339208974e-05, 0.005929003419362198, 0.015571662335346735, 0.07652009198822443, 0.9019054292799784), \"Incorrect proportions\")"
   ]
  },
  {
   "cell_type": "markdown",
   "metadata": {},
   "source": [
    "The following cells are just for importing Vegas"
   ]
  },
  {
   "cell_type": "code",
   "execution_count": 10,
   "metadata": {},
   "outputs": [
    {
     "name": "stdout",
     "output_type": "stream",
     "text": [
      "Marking org.vegas-viz:vegas_2.11:0.3.10 for download\n",
      "Obtained 42 files\n",
      "Marking org.vegas-viz:vegas-spark_2.11:0.3.10 for download\n",
      "Obtained 44 files\n"
     ]
    }
   ],
   "source": [
    "%AddDeps org.vegas-viz vegas_2.11 0.3.10 --transitive\n",
    "%AddDeps org.vegas-viz vegas-spark_2.11 0.3.10 --transitive"
   ]
  },
  {
   "cell_type": "code",
   "execution_count": 11,
   "metadata": {},
   "outputs": [
    {
     "data": {
      "text/plain": [
       "render = <function1>\n"
      ]
     },
     "metadata": {},
     "output_type": "display_data"
    },
    {
     "data": {
      "text/plain": [
       "<function1>"
      ]
     },
     "execution_count": 11,
     "metadata": {},
     "output_type": "execute_result"
    }
   ],
   "source": [
    "implicit val render = vegas.render.ShowHTML(kernel.display.content(\"text/html\", _))"
   ]
  },
  {
   "cell_type": "code",
   "execution_count": 12,
   "metadata": {},
   "outputs": [
    {
     "data": {
      "text/html": [
       "\n",
       "  <iframe id=\"frame-vegas-3e6398e1-17f9-4c6b-a0b1-60f4164db929\" sandbox=\"allow-scripts allow-same-origin\" style=\"border: none; width: 100%\" srcdoc=\"&lt;html&gt;\n",
       "  &lt;head&gt;\n",
       "    &lt;script src=&quot;https://cdn.jsdelivr.net/webjars/org.webjars.bower/d3/3.5.17/d3.min.js&quot; charset=&quot;utf-8&quot;&gt;&lt;/script&gt;\n",
       "&lt;script src=&quot;https://cdn.jsdelivr.net/webjars/org.webjars.bower/vega/2.6.3/vega.min.js&quot; charset=&quot;utf-8&quot;&gt;&lt;/script&gt;\n",
       "&lt;script src=&quot;https://cdn.jsdelivr.net/webjars/org.webjars.bower/vega-lite/1.2.0/vega-lite.min.js&quot; charset=&quot;utf-8&quot;&gt;&lt;/script&gt;\n",
       "&lt;script src=&quot;https://vega.github.io/vega-editor/vendor/vega-embed.js&quot; charset=&quot;utf-8&quot;&gt;&lt;/script&gt;\n",
       "  &lt;/head&gt;\n",
       "  &lt;body&gt;\n",
       " &lt;div id='vegas-3e6398e1-17f9-4c6b-a0b1-60f4164db929'&gt;&lt;/div&gt;\n",
       " &lt;script&gt;\n",
       "   var embedSpec = {\n",
       "     mode: &quot;vega-lite&quot;,\n",
       "     spec: {\n",
       "  &quot;mark&quot; : &quot;bar&quot;,\n",
       "  &quot;encoding&quot; : {\n",
       "    &quot;x&quot; : {\n",
       "      &quot;field&quot; : &quot;Response Code&quot;,\n",
       "      &quot;type&quot; : &quot;nominal&quot;\n",
       "    },\n",
       "    &quot;y&quot; : {\n",
       "      &quot;field&quot; : &quot;fracs_count&quot;,\n",
       "      &quot;type&quot; : &quot;quantitative&quot;\n",
       "    },\n",
       "    &quot;color&quot; : {\n",
       "      &quot;field&quot; : &quot;Response Code&quot;,\n",
       "      &quot;type&quot; : &quot;nominal&quot;\n",
       "    }\n",
       "  },\n",
       "  &quot;description&quot; : &quot;Response Code&quot;,\n",
       "  &quot;data&quot; : {\n",
       "    &quot;values&quot; : [\n",
       "      {\n",
       "        &quot;Response Code&quot; : 404,\n",
       "        &quot;fracs_count&quot; : 2\n",
       "      },\n",
       "      {\n",
       "        &quot;Response Code&quot; : 200,\n",
       "        &quot;fracs_count&quot; : 923\n",
       "      },\n",
       "      {\n",
       "        &quot;Response Code&quot; : 302,\n",
       "        &quot;fracs_count&quot; : 16\n",
       "      },\n",
       "      {\n",
       "        &quot;Response Code&quot; : 304,\n",
       "        &quot;fracs_count&quot; : 59\n",
       "      }\n",
       "    ]\n",
       "  }\n",
       "}\n",
       "   }\n",
       "   vg.embed(&quot;#vegas-3e6398e1-17f9-4c6b-a0b1-60f4164db929&quot;, embedSpec, function(error, result) {});\n",
       " &lt;/script&gt;\n",
       "\n",
       "    &lt;/body&gt;\n",
       "&lt;/html&gt;\"></iframe>\n",
       "  <script>\n",
       "    if (typeof resizeIFrame != 'function') {\n",
       "      function resizeIFrame(el, k) {\n",
       "        $(el.contentWindow.document).ready(function() {\n",
       "          el.style.height = el.contentWindow.document.body.scrollHeight + 'px';\n",
       "        });\n",
       "        if (k <= 10) { setTimeout(function() { resizeIFrame(el, k+1) }, 1000 + (k * 250)) };\n",
       "      }\n",
       "    }\n",
       "    $().ready( function() { resizeIFrame($('#frame-vegas-3e6398e1-17f9-4c6b-a0b1-60f4164db929').get(0), 1); });\n",
       "  </script>\n",
       "    "
      ]
     },
     "metadata": {},
     "output_type": "display_data"
    }
   ],
   "source": [
    "import vegas._\n",
    "import vegas.data.External._\n",
    "import vegas.sparkExt._\n",
    "\n",
    "Vegas(\"Response Code\").\n",
    "  mark(Bar).\n",
    "  withData(labels.zip(fracs_count).map(x => Map(\"Response Code\"->x._1,\"fracs_count\"->x._2))).\n",
    "  encodeX(\"Response Code\", Nom).\n",
    "  encodeY(\"fracs_count\", Quant).\n",
    "  encodeColor(field=\"Response Code\", dataType=Nominal).\n",
    "  show"
   ]
  },
  {
   "cell_type": "markdown",
   "metadata": {},
   "source": [
    "## 4. Visualizing Endpoints\n",
    "\n",
    "Now, lets visualize the number of hits to endpoints (URIs) in the log. To do that, perform a endpoints counts similar to response codes approach.\n",
    "\n",
    "_Hint_ : To perform this task, we first create a new RDD by using a `lambda` function to extract the `endpoint` field from the `access_logs` RDD using a pair tuple consisting of the endpoint and 1 which will let us count how many records were created by a particular host's request. Using the new RDD, we perform a `reduceByKey` function with a `lambda` function that adds the two values. We then cache the results.\n",
    "\n",
    " \n",
    "Next we visualize the results using `Vegas`. We previously imported the `Vegas` libraries, so we do not need to import it again. We perform two separate `map` functions with `lambda` functions. The first `map` function extracts a list of endpoint values, and the second `map` function extracts a list of the visits per endpoint values. Next, we create the line plot.\n",
    "\n"
   ]
  },
  {
   "cell_type": "code",
   "execution_count": 45,
   "metadata": {},
   "outputs": [
    {
     "data": {
      "text/html": [
       "\n",
       "  <iframe id=\"frame-vegas-44a65494-f97b-41a1-99cf-cfacfa8b67b2\" sandbox=\"allow-scripts allow-same-origin\" style=\"border: none; width: 100%\" srcdoc=\"&lt;html&gt;\n",
       "  &lt;head&gt;\n",
       "    &lt;script src=&quot;https://cdn.jsdelivr.net/webjars/org.webjars.bower/d3/3.5.17/d3.min.js&quot; charset=&quot;utf-8&quot;&gt;&lt;/script&gt;\n",
       "&lt;script src=&quot;https://cdn.jsdelivr.net/webjars/org.webjars.bower/vega/2.6.3/vega.min.js&quot; charset=&quot;utf-8&quot;&gt;&lt;/script&gt;\n",
       "&lt;script src=&quot;https://cdn.jsdelivr.net/webjars/org.webjars.bower/vega-lite/1.2.0/vega-lite.min.js&quot; charset=&quot;utf-8&quot;&gt;&lt;/script&gt;\n",
       "&lt;script src=&quot;https://vega.github.io/vega-editor/vendor/vega-embed.js&quot; charset=&quot;utf-8&quot;&gt;&lt;/script&gt;\n",
       "  &lt;/head&gt;\n",
       "  &lt;body&gt;\n",
       " &lt;div id='vegas-44a65494-f97b-41a1-99cf-cfacfa8b67b2'&gt;&lt;/div&gt;\n",
       " &lt;script&gt;\n",
       "   var embedSpec = {\n",
       "     mode: &quot;vega-lite&quot;,\n",
       "     spec: {\n",
       "  &quot;width&quot; : 800.0,\n",
       "  &quot;mark&quot; : &quot;bar&quot;,\n",
       "  &quot;encoding&quot; : {\n",
       "    &quot;x&quot; : {\n",
       "      &quot;field&quot; : &quot;Endpoints&quot;,\n",
       "      &quot;type&quot; : &quot;nominal&quot;\n",
       "    },\n",
       "    &quot;y&quot; : {\n",
       "      &quot;field&quot; : &quot;Number of Hits&quot;,\n",
       "      &quot;type&quot; : &quot;quantitative&quot;\n",
       "    }\n",
       "  },\n",
       "  &quot;description&quot; : &quot;404 Response d by Day&quot;,\n",
       "  &quot;data&quot; : {\n",
       "    &quot;values&quot; : [\n",
       "      {\n",
       "        &quot;Endpoints&quot; : &quot;(/cgi-bin/imagemap/countdown70?183,288,1)&quot;,\n",
       "        &quot;Number of Hits&quot; : 0\n",
       "      },\n",
       "      {\n",
       "        &quot;Endpoints&quot; : &quot;(/history/apollo/apollo-goals.txt,1)&quot;,\n",
       "        &quot;Number of Hits&quot; : 1\n",
       "      },\n",
       "      {\n",
       "        &quot;Endpoints&quot; : &quot;(/images/shuttle-patch-logo.gif,4)&quot;,\n",
       "        &quot;Number of Hits&quot; : 2\n",
       "      },\n",
       "      {\n",
       "        &quot;Endpoints&quot; : &quot;(/shuttle/missions/sts-70/movies/movies.html,4)&quot;,\n",
       "        &quot;Number of Hits&quot; : 3\n",
       "      },\n",
       "      {\n",
       "        &quot;Endpoints&quot; : &quot;(/history/gemini/gemini.html,3)&quot;,\n",
       "        &quot;Number of Hits&quot; : 4\n",
       "      },\n",
       "      {\n",
       "        &quot;Endpoints&quot; : &quot;(/biomed/wwwicons/blue.gif,1)&quot;,\n",
       "        &quot;Number of Hits&quot; : 5\n",
       "      },\n",
       "      {\n",
       "        &quot;Endpoints&quot; : &quot;(/persons/nasa-cm/mike-sm.gif,1)&quot;,\n",
       "        &quot;Number of Hits&quot; : 6\n",
       "      },\n",
       "      {\n",
       "        &quot;Endpoints&quot; : &quot;(/icons/text.xbm,4)&quot;,\n",
       "        &quot;Number of Hits&quot; : 7\n",
       "      },\n",
       "      {\n",
       "        &quot;Endpoints&quot; : &quot;(/shuttle/missions/51-c/mission-51-c.html,1)&quot;,\n",
       "        &quot;Number of Hits&quot; : 8\n",
       "      },\n",
       "      {\n",
       "        &quot;Endpoints&quot; : &quot;(/shuttle/missions/sts-68/news/sts-68-mcc-18.txt,1)&quot;,\n",
       "        &quot;Number of Hits&quot; : 9\n",
       "      },\n",
       "      {\n",
       "        &quot;Endpoints&quot; : &quot;(/shuttle/missions/61-c/mission-61-c.html,1)&quot;,\n",
       "        &quot;Number of Hits&quot; : 10\n",
       "      },\n",
       "      {\n",
       "        &quot;Endpoints&quot; : &quot;(/htbin/cdt_main.pl,4)&quot;,\n",
       "        &quot;Number of Hits&quot; : 11\n",
       "      },\n",
       "      {\n",
       "        &quot;Endpoints&quot; : &quot;(/shuttle/technology/images/sts_spec_6-small.gif,1)&quot;,\n",
       "        &quot;Number of Hits&quot; : 12\n",
       "      },\n",
       "      {\n",
       "        &quot;Endpoints&quot; : &quot;(/software/winvn/bluemarb.gif,10)&quot;,\n",
       "        &quot;Number of Hits&quot; : 13\n",
       "      },\n",
       "      {\n",
       "        &quot;Endpoints&quot; : &quot;(/images/launchpalms-small.gif,1)&quot;,\n",
       "        &quot;Number of Hits&quot; : 14\n",
       "      },\n",
       "      {\n",
       "        &quot;Endpoints&quot; : &quot;(/shuttle/missions/sts-56/mission-sts-56.html,1)&quot;,\n",
       "        &quot;Number of Hits&quot; : 15\n",
       "      },\n",
       "      {\n",
       "        &quot;Endpoints&quot; : &quot;(/shuttle/technology/sts-newsref/srb.html,1)&quot;,\n",
       "        &quot;Number of Hits&quot; : 16\n",
       "      },\n",
       "      {\n",
       "        &quot;Endpoints&quot; : &quot;(/shuttle/resources/orbiters/columbia-logo.gif,1)&quot;,\n",
       "        &quot;Number of Hits&quot; : 17\n",
       "      },\n",
       "      {\n",
       "        &quot;Endpoints&quot; : &quot;(/images/KSC-logosmall.gif,49)&quot;,\n",
       "        &quot;Number of Hits&quot; : 18\n",
       "      },\n",
       "      {\n",
       "        &quot;Endpoints&quot; : &quot;(/facilities/lc39a.html,4)&quot;,\n",
       "        &quot;Number of Hits&quot; : 19\n",
       "      },\n",
       "      {\n",
       "        &quot;Endpoints&quot; : &quot;(/software/winvn/wvlarge.gif,2)&quot;,\n",
       "        &quot;Number of Hits&quot; : 20\n",
       "      },\n",
       "      {\n",
       "        &quot;Endpoints&quot; : &quot;(/shuttle/missions/sts-75/mission-sts-75.html,1)&quot;,\n",
       "        &quot;Number of Hits&quot; : 21\n",
       "      },\n",
       "      {\n",
       "        &quot;Endpoints&quot; : &quot;(/shuttle/technology/images/launch_sites_8-small.gif,1)&quot;,\n",
       "        &quot;Number of Hits&quot; : 22\n",
       "      },\n",
       "      {\n",
       "        &quot;Endpoints&quot; : &quot;(/cgi-bin/imagemap/countdown70?61,223,1)&quot;,\n",
       "        &quot;Number of Hits&quot; : 23\n",
       "      },\n",
       "      {\n",
       "        &quot;Endpoints&quot; : &quot;(/history/apollo/apollo-16/apollo-16-patch-small.gif,1)&quot;,\n",
       "        &quot;Number of Hits&quot; : 24\n",
       "      },\n",
       "      {\n",
       "        &quot;Endpoints&quot; : &quot;(/cgi-bin/imagemap/countdown70?67,155,1)&quot;,\n",
       "        &quot;Number of Hits&quot; : 25\n",
       "      },\n",
       "      {\n",
       "        &quot;Endpoints&quot; : &quot;(/history/apollo/apollo-1/images/66HC1519.gif,2)&quot;,\n",
       "        &quot;Number of Hits&quot; : 26\n",
       "      },\n",
       "      {\n",
       "        &quot;Endpoints&quot; : &quot;(/shuttle/missions/sts-64/mission-sts-64.html,3)&quot;,\n",
       "        &quot;Number of Hits&quot; : 27\n",
       "      },\n",
       "      {\n",
       "        &quot;Endpoints&quot; : &quot;(/history/apollo/apollo-1/images/apollo-1-crew.gif,1)&quot;,\n",
       "        &quot;Number of Hits&quot; : 28\n",
       "      },\n",
       "      {\n",
       "        &quot;Endpoints&quot; : &quot;(/icons/image.xbm,7)&quot;,\n",
       "        &quot;Number of Hits&quot; : 29\n",
       "      },\n",
       "      {\n",
       "        &quot;Endpoints&quot; : &quot;(/shuttle/missions/sts-73/mission-sts-73.html,1)&quot;,\n",
       "        &quot;Number of Hits&quot; : 30\n",
       "      },\n",
       "      {\n",
       "        &quot;Endpoints&quot; : &quot;(/shuttle/missions/sts-71/movies/sts-71-launch-3.mpg,2)&quot;,\n",
       "        &quot;Number of Hits&quot; : 31\n",
       "      },\n",
       "      {\n",
       "        &quot;Endpoints&quot; : &quot;(/shuttle/missions/51-d/mission-51-d.html,1)&quot;,\n",
       "        &quot;Number of Hits&quot; : 32\n",
       "      },\n",
       "      {\n",
       "        &quot;Endpoints&quot; : &quot;(/shuttle/missions/sts-68/news/sts-68-mcc-10.txt,1)&quot;,\n",
       "        &quot;Number of Hits&quot; : 33\n",
       "      },\n",
       "      {\n",
       "        &quot;Endpoints&quot; : &quot;(/facts/launch-pass.txt,1)&quot;,\n",
       "        &quot;Number of Hits&quot; : 34\n",
       "      },\n",
       "      {\n",
       "        &quot;Endpoints&quot; : &quot;(/history/apollo/apollo-1/apollo-1.html,1)&quot;,\n",
       "        &quot;Number of Hits&quot; : 35\n",
       "      },\n",
       "      {\n",
       "        &quot;Endpoints&quot; : &quot;(/cgi-bin/imagemap/countdown70?181,275,1)&quot;,\n",
       "        &quot;Number of Hits&quot; : 36\n",
       "      },\n",
       "      {\n",
       "        &quot;Endpoints&quot; : &quot;(/history/skylab/skylab-1.html,1)&quot;,\n",
       "        &quot;Number of Hits&quot; : 37\n",
       "      },\n",
       "      {\n",
       "        &quot;Endpoints&quot; : &quot;(/shuttle/missions/sts-69/mission-sts-69.html,3)&quot;,\n",
       "        &quot;Number of Hits&quot; : 38\n",
       "      },\n",
       "      {\n",
       "        &quot;Endpoints&quot; : &quot;(/elv/TITAN/titan.gif,1)&quot;,\n",
       "        &quot;Number of Hits&quot; : 39\n",
       "      },\n",
       "      {\n",
       "        &quot;Endpoints&quot; : &quot;(/shuttle/technology/images/aft_fuselage_2-small.gif,1)&quot;,\n",
       "        &quot;Number of Hits&quot; : 40\n",
       "      },\n",
       "      {\n",
       "        &quot;Endpoints&quot; : &quot;(/images/ksclogo-medium.gif,29)&quot;,\n",
       "        &quot;Number of Hits&quot; : 41\n",
       "      },\n",
       "      {\n",
       "        &quot;Endpoints&quot; : &quot;(/images/shuttle-patch-small.gif,3)&quot;,\n",
       "        &quot;Number of Hits&quot; : 42\n",
       "      },\n",
       "      {\n",
       "        &quot;Endpoints&quot; : &quot;(/shuttle/missions/sts-59/sts-59-info.html,1)&quot;,\n",
       "        &quot;Number of Hits&quot; : 43\n",
       "      },\n",
       "      {\n",
       "        &quot;Endpoints&quot; : &quot;(/history/apollo/,1)&quot;,\n",
       "        &quot;Number of Hits&quot; : 44\n",
       "      },\n",
       "      {\n",
       "        &quot;Endpoints&quot; : &quot;(/cgi-bin/imagemap/countdown70?342,281,1)&quot;,\n",
       "        &quot;Number of Hits&quot; : 45\n",
       "      },\n",
       "      {\n",
       "        &quot;Endpoints&quot; : &quot;(/images/dual-pad.gif,1)&quot;,\n",
       "        &quot;Number of Hits&quot; : 46\n",
       "      },\n",
       "      {\n",
       "        &quot;Endpoints&quot; : &quot;(/software/winvn/userguide/wvnguide.html,1)&quot;,\n",
       "        &quot;Number of Hits&quot; : 47\n",
       "      },\n",
       "      {\n",
       "        &quot;Endpoints&quot; : &quot;(/shuttle/resources/orbiters/orbiters-logo.gif,6)&quot;,\n",
       "        &quot;Number of Hits&quot; : 48\n",
       "      },\n",
       "      {\n",
       "        &quot;Endpoints&quot; : &quot;(/elv/SCOUT/scout.gif,1)&quot;,\n",
       "        &quot;Number of Hits&quot; : 49\n",
       "      },\n",
       "      {\n",
       "        &quot;Endpoints&quot; : &quot;(/images/imagemaps/stats.map,1)&quot;,\n",
       "        &quot;Number of Hits&quot; : 50\n",
       "      },\n",
       "      {\n",
       "        &quot;Endpoints&quot; : &quot;(/shuttle/missions/sts-71/movies/sts-71-rollover.mpg,1)&quot;,\n",
       "        &quot;Number of Hits&quot; : 51\n",
       "      },\n",
       "      {\n",
       "        &quot;Endpoints&quot; : &quot;(/shuttle/missions/sts-70/images/images.html,4)&quot;,\n",
       "        &quot;Number of Hits&quot; : 52\n",
       "      },\n",
       "      {\n",
       "        &quot;Endpoints&quot; : &quot;(/shuttle/missions/sts-70/mission-sts-70.html,9)&quot;,\n",
       "        &quot;Number of Hits&quot; : 53\n",
       "      },\n",
       "      {\n",
       "        &quot;Endpoints&quot; : &quot;(/shuttle/technology/images/srb_16-small.gif,1)&quot;,\n",
       "        &quot;Number of Hits&quot; : 54\n",
       "      },\n",
       "      {\n",
       "        &quot;Endpoints&quot; : &quot;(/shuttle/countdown/video/livevideo2.gif,3)&quot;,\n",
       "        &quot;Number of Hits&quot; : 55\n",
       "      },\n",
       "      {\n",
       "        &quot;Endpoints&quot; : &quot;(/shuttle/missions/sts-72/mission-sts-72.html,1)&quot;,\n",
       "        &quot;Number of Hits&quot; : 56\n",
       "      },\n",
       "      {\n",
       "        &quot;Endpoints&quot; : &quot;(/history/apollo/apollo-4/apollo-4-patch-small.gif,1)&quot;,\n",
       "        &quot;Number of Hits&quot; : 57\n",
       "      },\n",
       "      {\n",
       "        &quot;Endpoints&quot; : &quot;(/shuttle/resources/orbiters/discovery-logo.gif,5)&quot;,\n",
       "        &quot;Number of Hits&quot; : 58\n",
       "      },\n",
       "      {\n",
       "        &quot;Endpoints&quot; : &quot;(/history/apollo/as-201/as-201-patch-small.gif,1)&quot;,\n",
       "        &quot;Number of Hits&quot; : 59\n",
       "      },\n",
       "      {\n",
       "        &quot;Endpoints&quot; : &quot;(/history/apollo/apollo-spacecraft.txt,1)&quot;,\n",
       "        &quot;Number of Hits&quot; : 60\n",
       "      },\n",
       "      {\n",
       "        &quot;Endpoints&quot; : &quot;(/shuttle/resources/orbiters/endeavour.html,4)&quot;,\n",
       "        &quot;Number of Hits&quot; : 61\n",
       "      },\n",
       "      {\n",
       "        &quot;Endpoints&quot; : &quot;(/images/faq.gif,1)&quot;,\n",
       "        &quot;Number of Hits&quot; : 62\n",
       "      },\n",
       "      {\n",
       "        &quot;Endpoints&quot; : &quot;(/biomed/wwwicons/purple.gif,1)&quot;,\n",
       "        &quot;Number of Hits&quot; : 63\n",
       "      },\n",
       "      {\n",
       "        &quot;Endpoints&quot; : &quot;(/elv/elvpage.htm,2)&quot;,\n",
       "        &quot;Number of Hits&quot; : 64\n",
       "      },\n",
       "      {\n",
       "        &quot;Endpoints&quot; : &quot;(/biomed/wwwicons/mm.gif,1)&quot;,\n",
       "        &quot;Number of Hits&quot; : 65\n",
       "      },\n",
       "      {\n",
       "        &quot;Endpoints&quot; : &quot;(/shuttle/technology/images/tal_abort_2-small.gif,1)&quot;,\n",
       "        &quot;Number of Hits&quot; : 66\n",
       "      },\n",
       "      {\n",
       "        &quot;Endpoints&quot; : &quot;(/icons/menu.xbm,10)&quot;,\n",
       "        &quot;Number of Hits&quot; : 67\n",
       "      },\n",
       "      {\n",
       "        &quot;Endpoints&quot; : &quot;(/shuttle/technology/sts-newsref/sts-gnnc.html,1)&quot;,\n",
       "        &quot;Number of Hits&quot; : 68\n",
       "      },\n",
       "      {\n",
       "        &quot;Endpoints&quot; : &quot;(/history/apollo/apollo-12/videos/moonflag.mpg,4)&quot;,\n",
       "        &quot;Number of Hits&quot; : 69\n",
       "      },\n",
       "      {\n",
       "        &quot;Endpoints&quot; : &quot;(/shuttle/missions/sts-71/movies/sts-71-tcdt-crew-walkout.mpg,1)&quot;,\n",
       "        &quot;Number of Hits&quot; : 70\n",
       "      },\n",
       "      {\n",
       "        &quot;Endpoints&quot; : &quot;(/shuttle/missions/sts-1/mission-sts-1.html,1)&quot;,\n",
       "        &quot;Number of Hits&quot; : 71\n",
       "      },\n",
       "      {\n",
       "        &quot;Endpoints&quot; : &quot;(/history/apollo/apollo-16/apollo-16.html,1)&quot;,\n",
       "        &quot;Number of Hits&quot; : 72\n",
       "      },\n",
       "      {\n",
       "        &quot;Endpoints&quot; : &quot;(/shuttle/missions/sts-49/mission-sts-49.html,2)&quot;,\n",
       "        &quot;Number of Hits&quot; : 73\n",
       "      },\n",
       "      {\n",
       "        &quot;Endpoints&quot; : &quot;(/history/apollo/apollo-17/apollo-17-patch-small.gif,1)&quot;,\n",
       "        &quot;Number of Hits&quot; : 74\n",
       "      },\n",
       "      {\n",
       "        &quot;Endpoints&quot; : &quot;(/images/,9)&quot;,\n",
       "        &quot;Number of Hits&quot; : 75\n",
       "      },\n",
       "      {\n",
       "        &quot;Endpoints&quot; : &quot;(/shuttle/missions/sts-73/news,1)&quot;,\n",
       "        &quot;Number of Hits&quot; : 76\n",
       "      },\n",
       "      {\n",
       "        &quot;Endpoints&quot; : &quot;(/elv/elvhead2.gif,1)&quot;,\n",
       "        &quot;Number of Hits&quot; : 77\n",
       "      },\n",
       "      {\n",
       "        &quot;Endpoints&quot; : &quot;(/shuttle/missions/sts-76/mission-sts-76.html,1)&quot;,\n",
       "        &quot;Number of Hits&quot; : 78\n",
       "      },\n",
       "      {\n",
       "        &quot;Endpoints&quot; : &quot;(/images/launchmedium.gif,13)&quot;,\n",
       "        &quot;Number of Hits&quot; : 79\n",
       "      },\n",
       "      {\n",
       "        &quot;Endpoints&quot; : &quot;(/history/apollo/apollo-11/images/,1)&quot;,\n",
       "        &quot;Number of Hits&quot; : 80\n",
       "      },\n",
       "      {\n",
       "        &quot;Endpoints&quot; : &quot;(/history/apollo/apollo.html,7)&quot;,\n",
       "        &quot;Number of Hits&quot; : 81\n",
       "      },\n",
       "      {\n",
       "        &quot;Endpoints&quot; : &quot;(/cgi-bin/imagemap/countdown70?72,218,1)&quot;,\n",
       "        &quot;Number of Hits&quot; : 82\n",
       "      },\n",
       "      {\n",
       "        &quot;Endpoints&quot; : &quot;(/shuttle/missions/51-l/mission-51-l.html,1)&quot;,\n",
       "        &quot;Number of Hits&quot; : 83\n",
       "      },\n",
       "      {\n",
       "        &quot;Endpoints&quot; : &quot;(/history/apollo/apollo-1/movies/,1)&quot;,\n",
       "        &quot;Number of Hits&quot; : 84\n",
       "      },\n",
       "      {\n",
       "        &quot;Endpoints&quot; : &quot;(/history/apollo/apollo-11/images/69HC680.GIF,1)&quot;,\n",
       "        &quot;Number of Hits&quot; : 85\n",
       "      },\n",
       "      {\n",
       "        &quot;Endpoints&quot; : &quot;(/images/flight-deck.gif,1)&quot;,\n",
       "        &quot;Number of Hits&quot; : 86\n",
       "      },\n",
       "      {\n",
       "        &quot;Endpoints&quot; : &quot;(/elv/hot.gif,1)&quot;,\n",
       "        &quot;Number of Hits&quot; : 87\n",
       "      },\n",
       "      {\n",
       "        &quot;Endpoints&quot; : &quot;(/shuttle/missions/sts-63/sts-63-patch.jpg,1)&quot;,\n",
       "        &quot;Number of Hits&quot; : 88\n",
       "      },\n",
       "      {\n",
       "        &quot;Endpoints&quot; : &quot;(/history/apollo/images/apollo-logo.gif,4)&quot;,\n",
       "        &quot;Number of Hits&quot; : 89\n",
       "      },\n",
       "      {\n",
       "        &quot;Endpoints&quot; : &quot;(/shuttle/missions/sts-71/images/KSC-95EC-0423.gif,1)&quot;,\n",
       "        &quot;Number of Hits&quot; : 90\n",
       "      },\n",
       "      {\n",
       "        &quot;Endpoints&quot; : &quot;(/shuttle/countdown/lps/back.gif,1)&quot;,\n",
       "        &quot;Number of Hits&quot; : 91\n",
       "      },\n",
       "      {\n",
       "        &quot;Endpoints&quot; : &quot;(/history/apollo/images/footprint.gif,1)&quot;,\n",
       "        &quot;Number of Hits&quot; : 92\n",
       "      },\n",
       "      {\n",
       "        &quot;Endpoints&quot; : &quot;(/shuttle/missions/sts-68/mission-sts-68.html,5)&quot;,\n",
       "        &quot;Number of Hits&quot; : 93\n",
       "      },\n",
       "      {\n",
       "        &quot;Endpoints&quot; : &quot;(/history/apollo/apollo-12/,4)&quot;,\n",
       "        &quot;Number of Hits&quot; : 94\n",
       "      },\n",
       "      {\n",
       "        &quot;Endpoints&quot; : &quot;(/shuttle/technology/images/crew_compartment_13-small.gif,1)&quot;,\n",
       "        &quot;Number of Hits&quot; : 95\n",
       "      },\n",
       "      {\n",
       "        &quot;Endpoints&quot; : &quot;(/persons/nasa-cm/jmd.gif,1)&quot;,\n",
       "        &quot;Number of Hits&quot; : 96\n",
       "      },\n",
       "      {\n",
       "        &quot;Endpoints&quot; : &quot;(/history/apollo/apollo-12/apollo-12.html,2)&quot;,\n",
       "        &quot;Number of Hits&quot; : 97\n",
       "      },\n",
       "      {\n",
       "        &quot;Endpoints&quot; : &quot;(/history/apollo/images/footprint-logo.gif,14)&quot;,\n",
       "        &quot;Number of Hits&quot; : 98\n",
       "      },\n",
       "      {\n",
       "        &quot;Endpoints&quot; : &quot;(/history/apollo/apollo-12/movies/,5)&quot;,\n",
       "        &quot;Number of Hits&quot; : 99\n",
       "      },\n",
       "      {\n",
       "        &quot;Endpoints&quot; : &quot;(/history/apollo/images/apollo-small.gif,5)&quot;,\n",
       "        &quot;Number of Hits&quot; : 100\n",
       "      },\n",
       "      {\n",
       "        &quot;Endpoints&quot; : &quot;(/history/apollo/apollo-12/apollo-12-patch-small.gif,1)&quot;,\n",
       "        &quot;Number of Hits&quot; : 101\n",
       "      },\n",
       "      {\n",
       "        &quot;Endpoints&quot; : &quot;(/persons/nasa-cm/tnn-sm.gif,1)&quot;,\n",
       "        &quot;Number of Hits&quot; : 102\n",
       "      },\n",
       "      {\n",
       "        &quot;Endpoints&quot; : &quot;(/history/apollo/as-201/as-201.html,1)&quot;,\n",
       "        &quot;Number of Hits&quot; : 103\n",
       "      },\n",
       "      {\n",
       "        &quot;Endpoints&quot; : &quot;(/ksc.html/,1)&quot;,\n",
       "        &quot;Number of Hits&quot; : 104\n",
       "      },\n",
       "      {\n",
       "        &quot;Endpoints&quot; : &quot;(/shuttle/technology/images/et_1-small.gif,1)&quot;,\n",
       "        &quot;Number of Hits&quot; : 105\n",
       "      },\n",
       "      {\n",
       "        &quot;Endpoints&quot; : &quot;(/shuttle/missions/sts-57/mission-sts-57.html,2)&quot;,\n",
       "        &quot;Number of Hits&quot; : 106\n",
       "      },\n",
       "      {\n",
       "        &quot;Endpoints&quot; : &quot;(/shuttle/resources/orbiters/discovery.gif,1)&quot;,\n",
       "        &quot;Number of Hits&quot; : 107\n",
       "      },\n",
       "      {\n",
       "        &quot;Endpoints&quot; : &quot;(/shuttle/countdown/lps/fr.html,1)&quot;,\n",
       "        &quot;Number of Hits&quot; : 108\n",
       "      },\n",
       "      {\n",
       "        &quot;Endpoints&quot; : &quot;(/shuttle/missions/sts-68/news/sts-68-mcc-14.txt,1)&quot;,\n",
       "        &quot;Number of Hits&quot; : 109\n",
       "      },\n",
       "      {\n",
       "        &quot;Endpoints&quot; : &quot;(/software/winvn/wvsmall.gif,10)&quot;,\n",
       "        &quot;Number of Hits&quot; : 110\n",
       "      },\n",
       "      {\n",
       "        &quot;Endpoints&quot; : &quot;(/images/rss.gif,2)&quot;,\n",
       "        &quot;Number of Hits&quot; : 111\n",
       "      },\n",
       "      {\n",
       "        &quot;Endpoints&quot; : &quot;(/images/lc39a-logo.gif,4)&quot;,\n",
       "        &quot;Number of Hits&quot; : 112\n",
       "      },\n",
       "      {\n",
       "        &quot;Endpoints&quot; : &quot;(/history/apollo/images/apollo.gif,1)&quot;,\n",
       "        &quot;Number of Hits&quot; : 113\n",
       "      },\n",
       "      {\n",
       "        &quot;Endpoints&quot; : &quot;(/images/USA-logosmall.gif,34)&quot;,\n",
       "        &quot;Number of Hits&quot; : 114\n",
       "      },\n",
       "      {\n",
       "        &quot;Endpoints&quot; : &quot;(/shuttle/missions/sts-71/movies/sts-71-mir-dock-2.mpg,1)&quot;,\n",
       "        &quot;Number of Hits&quot; : 115\n",
       "      },\n",
       "      {\n",
       "        &quot;Endpoints&quot; : &quot;(/shuttle/resources/orbiters/atlantis-logo.gif,1)&quot;,\n",
       "        &quot;Number of Hits&quot; : 116\n",
       "      },\n",
       "      {\n",
       "        &quot;Endpoints&quot; : &quot;(/shuttle/missions/sts-63/mission-sts-63.html,1)&quot;,\n",
       "        &quot;Number of Hits&quot; : 117\n",
       "      },\n",
       "      {\n",
       "        &quot;Endpoints&quot; : &quot;(/history/apollo/apollo-11/apollo-11.html,3)&quot;,\n",
       "        &quot;Number of Hits&quot; : 118\n",
       "      },\n",
       "      {\n",
       "        &quot;Endpoints&quot; : &quot;(/history/skylab/skylab.html,2)&quot;,\n",
       "        &quot;Number of Hits&quot; : 119\n",
       "      },\n",
       "      {\n",
       "        &quot;Endpoints&quot; : &quot;(/history/apollo/apollo-1/images/67HC33a.gif,1)&quot;,\n",
       "        &quot;Number of Hits&quot; : 120\n",
       "      },\n",
       "      {\n",
       "        &quot;Endpoints&quot; : &quot;(/shuttle/resources/orbiters/challenger.html,1)&quot;,\n",
       "        &quot;Number of Hits&quot; : 121\n",
       "      },\n",
       "      {\n",
       "        &quot;Endpoints&quot; : &quot;(/software/winvn/userguide/winvnsm.gif,1)&quot;,\n",
       "        &quot;Number of Hits&quot; : 122\n",
       "      },\n",
       "      {\n",
       "        &quot;Endpoints&quot; : &quot;(/shuttle/missions/sts-70/movies/sts-70-launch.mpg,2)&quot;,\n",
       "        &quot;Number of Hits&quot; : 123\n",
       "      },\n",
       "      {\n",
       "        &quot;Endpoints&quot; : &quot;(/shuttle/missions/sts-71/images/KSC-95EC-0873.jpg,1)&quot;,\n",
       "        &quot;Number of Hits&quot; : 124\n",
       "      },\n",
       "      {\n",
       "        &quot;Endpoints&quot; : &quot;(/shuttle/missions/sts-26/mission-sts-26.html,1)&quot;,\n",
       "        &quot;Number of Hits&quot; : 125\n",
       "      },\n",
       "      {\n",
       "        &quot;Endpoints&quot; : &quot;(/shuttle/technology/sts-newsref/sts-mps.html,1)&quot;,\n",
       "        &quot;Number of Hits&quot; : 126\n",
       "      },\n",
       "      {\n",
       "        &quot;Endpoints&quot; : &quot;(/shuttle/technology/images/srb_mod_compare_6-small.gif,3)&quot;,\n",
       "        &quot;Number of Hits&quot; : 127\n",
       "      },\n",
       "      {\n",
       "        &quot;Endpoints&quot; : &quot;(/shuttle/missions/sts-71/images/index71.gif,1)&quot;,\n",
       "        &quot;Number of Hits&quot; : 128\n",
       "      },\n",
       "      {\n",
       "        &quot;Endpoints&quot; : &quot;(/images/kscmap-tiny.gif,7)&quot;,\n",
       "        &quot;Number of Hits&quot; : 129\n",
       "      },\n",
       "      {\n",
       "        &quot;Endpoints&quot; : &quot;(/biomed/wwwicons/yellow.gif,1)&quot;,\n",
       "        &quot;Number of Hits&quot; : 130\n",
       "      },\n",
       "      {\n",
       "        &quot;Endpoints&quot; : &quot;(/shuttle/technology/sts-newsref/et.html,1)&quot;,\n",
       "        &quot;Number of Hits&quot; : 131\n",
       "      },\n",
       "      {\n",
       "        &quot;Endpoints&quot; : &quot;(/history/apollo/apollo-11/apollo-11-patch-small.gif,3)&quot;,\n",
       "        &quot;Number of Hits&quot; : 132\n",
       "      },\n",
       "      {\n",
       "        &quot;Endpoints&quot; : &quot;(/software/winvn/userguide/docsleft.gif,1)&quot;,\n",
       "        &quot;Number of Hits&quot; : 133\n",
       "      },\n",
       "      {\n",
       "        &quot;Endpoints&quot; : &quot;(/shuttle/countdown/liftoff.html,8)&quot;,\n",
       "        &quot;Number of Hits&quot; : 134\n",
       "      },\n",
       "      {\n",
       "        &quot;Endpoints&quot; : &quot;(/history/apollo/apollo-17/apollo-17.html,1)&quot;,\n",
       "        &quot;Number of Hits&quot; : 135\n",
       "      },\n",
       "      {\n",
       "        &quot;Endpoints&quot; : &quot;(/shuttle/missions/sts-68/news/sts-68-mcc-12.txt,1)&quot;,\n",
       "        &quot;Number of Hits&quot; : 136\n",
       "      },\n",
       "      {\n",
       "        &quot;Endpoints&quot; : &quot;(/shuttle/missions/sts-70/o-ring-problem.gif,1)&quot;,\n",
       "        &quot;Number of Hits&quot; : 137\n",
       "      },\n",
       "      {\n",
       "        &quot;Endpoints&quot; : &quot;(/shuttle/countdown/lps/images/BKUP-INT.gif,1)&quot;,\n",
       "        &quot;Number of Hits&quot; : 138\n",
       "      },\n",
       "      {\n",
       "        &quot;Endpoints&quot; : &quot;(/elv/DELTA/delta.gif,1)&quot;,\n",
       "        &quot;Number of Hits&quot; : 139\n",
       "      },\n",
       "      {\n",
       "        &quot;Endpoints&quot; : &quot;(/images/NASA-logosmall.gif,41)&quot;,\n",
       "        &quot;Number of Hits&quot; : 140\n",
       "      },\n",
       "      {\n",
       "        &quot;Endpoints&quot; : &quot;(/cgi-bin/imagemap/countdown70?51,156,1)&quot;,\n",
       "        &quot;Number of Hits&quot; : 141\n",
       "      },\n",
       "      {\n",
       "        &quot;Endpoints&quot; : &quot;(/shuttle/missions/sts-71/images/KSC-95EC-0911.gif,1)&quot;,\n",
       "        &quot;Number of Hits&quot; : 142\n",
       "      },\n",
       "      {\n",
       "        &quot;Endpoints&quot; : &quot;(/shuttle/missions/sts-59/mission-sts-59.html,1)&quot;,\n",
       "        &quot;Number of Hits&quot; : 143\n",
       "      },\n",
       "      {\n",
       "        &quot;Endpoints&quot; : &quot;(/shuttle/missions/sts-68/news/sts-68-mcc-07.txt,1)&quot;,\n",
       "        &quot;Number of Hits&quot; : 144\n",
       "      },\n",
       "      {\n",
       "        &quot;Endpoints&quot; : &quot;(/shuttle/missions/61-b/mission-61-b.html,1)&quot;,\n",
       "        &quot;Number of Hits&quot; : 145\n",
       "      },\n",
       "      {\n",
       "        &quot;Endpoints&quot; : &quot;(/history/apollo/apollo-13/apollo-13.html,10)&quot;,\n",
       "        &quot;Number of Hits&quot; : 146\n",
       "      },\n",
       "      {\n",
       "        &quot;Endpoints&quot; : &quot;(/persons/nasa-cm/hec-sm.gif,1)&quot;,\n",
       "        &quot;Number of Hits&quot; : 147\n",
       "      },\n",
       "      {\n",
       "        &quot;Endpoints&quot; : &quot;(/whats-new.html,2)&quot;,\n",
       "        &quot;Number of Hits&quot; : 148\n",
       "      },\n",
       "      {\n",
       "        &quot;Endpoints&quot; : &quot;(/shuttle/missions/sts-66/mission-sts-66.html,2)&quot;,\n",
       "        &quot;Number of Hits&quot; : 149\n",
       "      },\n",
       "      {\n",
       "        &quot;Endpoints&quot; : &quot;(/shuttle/missions/sts-71/mission-sts-71.html,6)&quot;,\n",
       "        &quot;Number of Hits&quot; : 150\n",
       "      },\n",
       "      {\n",
       "        &quot;Endpoints&quot; : &quot;(/shuttle/missions/sts-68/news/sts-68-mcc-05.txt,1)&quot;,\n",
       "        &quot;Number of Hits&quot; : 151\n",
       "      },\n",
       "      {\n",
       "        &quot;Endpoints&quot; : &quot;(/shuttle/technology/images/mission_profile_2-small.gif,1)&quot;,\n",
       "        &quot;Number of Hits&quot; : 152\n",
       "      },\n",
       "      {\n",
       "        &quot;Endpoints&quot; : &quot;(/images/bluemarb.gif,1)&quot;,\n",
       "        &quot;Number of Hits&quot; : 153\n",
       "      },\n",
       "      {\n",
       "        &quot;Endpoints&quot; : &quot;(/software/winvn/winvn.gif,10)&quot;,\n",
       "        &quot;Number of Hits&quot; : 154\n",
       "      },\n",
       "      {\n",
       "        &quot;Endpoints&quot; : &quot;(/history/apollo/apollo-11/sounds/,1)&quot;,\n",
       "        &quot;Number of Hits&quot; : 155\n",
       "      },\n",
       "      {\n",
       "        &quot;Endpoints&quot; : &quot;(/history/apollo/apollo-4/apollo-4.html,1)&quot;,\n",
       "        &quot;Number of Hits&quot; : 156\n",
       "      },\n",
       "      {\n",
       "        &quot;Endpoints&quot; : &quot;(/shuttle/missions/sts-68/news/sts-68-mcc-09.txt,1)&quot;,\n",
       "        &quot;Number of Hits&quot; : 157\n",
       "      },\n",
       "      {\n",
       "        &quot;Endpoints&quot; : &quot;(/shuttle/missions/sts-68/news/sts-68-mcc-16.txt,1)&quot;,\n",
       "        &quot;Number of Hits&quot; : 158\n",
       "      },\n",
       "      {\n",
       "        &quot;Endpoints&quot; : &quot;(/images/NASAseal-small.gif,1)&quot;,\n",
       "        &quot;Number of Hits&quot; : 159\n",
       "      },\n",
       "      {\n",
       "        &quot;Endpoints&quot; : &quot;(/history/apollo/images/footprint-small.gif,8)&quot;,\n",
       "        &quot;Number of Hits&quot; : 160\n",
       "      },\n",
       "      {\n",
       "        &quot;Endpoints&quot; : &quot;(/history/skylab/skylab-4-small.gif,1)&quot;,\n",
       "        &quot;Number of Hits&quot; : 161\n",
       "      },\n",
       "      {\n",
       "        &quot;Endpoints&quot; : &quot;(/history/apollo/apollo-13/apollo-13-patch-small.gif,9)&quot;,\n",
       "        &quot;Number of Hits&quot; : 162\n",
       "      },\n",
       "      {\n",
       "        &quot;Endpoints&quot; : &quot;(/images/crawler-logo.gif,1)&quot;,\n",
       "        &quot;Number of Hits&quot; : 163\n",
       "      },\n",
       "      {\n",
       "        &quot;Endpoints&quot; : &quot;(/biomed/wwwicons/orange.gif,1)&quot;,\n",
       "        &quot;Number of Hits&quot; : 164\n",
       "      },\n",
       "      {\n",
       "        &quot;Endpoints&quot; : &quot;(/shuttle/missions/51-d/51-d-patch-small.gif,1)&quot;,\n",
       "        &quot;Number of Hits&quot; : 165\n",
       "      },\n",
       "      {\n",
       "        &quot;Endpoints&quot; : &quot;(/icons/unknown.xbm,4)&quot;,\n",
       "        &quot;Number of Hits&quot; : 166\n",
       "      },\n",
       "      {\n",
       "        &quot;Endpoints&quot; : &quot;(/shuttle/,1)&quot;,\n",
       "        &quot;Number of Hits&quot; : 167\n",
       "      },\n",
       "      {\n",
       "        &quot;Endpoints&quot; : &quot;(/shuttle/missions/sts-70/images/KSC-95EC-1059.gif,1)&quot;,\n",
       "        &quot;Number of Hits&quot; : 168\n",
       "      },\n",
       "      {\n",
       "        &quot;Endpoints&quot; : &quot;(/shuttle/missions/sts-68/news/sts-68-mcc-13.txt,1)&quot;,\n",
       "        &quot;Number of Hits&quot; : 169\n",
       "      },\n",
       "      {\n",
       "        &quot;Endpoints&quot; : &quot;(/shuttle/missions/sts-70/movies/sts-70-crew-suitup.mpg,1)&quot;,\n",
       "        &quot;Number of Hits&quot; : 170\n",
       "      },\n",
       "      {\n",
       "        &quot;Endpoints&quot; : &quot;(/shuttle/countdown/count.html,1)&quot;,\n",
       "        &quot;Number of Hits&quot; : 171\n",
       "      },\n",
       "      {\n",
       "        &quot;Endpoints&quot; : &quot;(/shuttle/technology/sts-newsref/sts_coord.html,1)&quot;,\n",
       "        &quot;Number of Hits&quot; : 172\n",
       "      },\n",
       "      {\n",
       "        &quot;Endpoints&quot; : &quot;(/history/skylab/skylab-logo.gif,2)&quot;,\n",
       "        &quot;Number of Hits&quot; : 173\n",
       "      },\n",
       "      {\n",
       "        &quot;Endpoints&quot; : &quot;(/shuttle/resources/orbiters/columbia.html,1)&quot;,\n",
       "        &quot;Number of Hits&quot; : 174\n",
       "      },\n",
       "      {\n",
       "        &quot;Endpoints&quot; : &quot;(/images/launch-logo.gif,21)&quot;,\n",
       "        &quot;Number of Hits&quot; : 175\n",
       "      },\n",
       "      {\n",
       "        &quot;Endpoints&quot; : &quot;(/shuttle/technology/sts-newsref/sts-av.html,1)&quot;,\n",
       "        &quot;Number of Hits&quot; : 176\n",
       "      },\n",
       "      {\n",
       "        &quot;Endpoints&quot; : &quot;(/history/history.html,6)&quot;,\n",
       "        &quot;Number of Hits&quot; : 177\n",
       "      },\n",
       "      {\n",
       "        &quot;Endpoints&quot; : &quot;(/images/IMPACT.JPG,1)&quot;,\n",
       "        &quot;Number of Hits&quot; : 178\n",
       "      },\n",
       "      {\n",
       "        &quot;Endpoints&quot; : &quot;(/shuttle/resources/orbiters/challenger-logo.gif,1)&quot;,\n",
       "        &quot;Number of Hits&quot; : 179\n",
       "      },\n",
       "      {\n",
       "        &quot;Endpoints&quot; : &quot;(/shuttle/missions/sts-26/sts-26-patch-small.gif,1)&quot;,\n",
       "        &quot;Number of Hits&quot; : 180\n",
       "      },\n",
       "      {\n",
       "        &quot;Endpoints&quot; : &quot;(/shuttle/missions/sts-68/news/sts-68-mcc-08.txt,1)&quot;,\n",
       "        &quot;Number of Hits&quot; : 181\n",
       "      },\n",
       "      {\n",
       "        &quot;Endpoints&quot; : &quot;(/shuttle/countdown/count70.gif,15)&quot;,\n",
       "        &quot;Number of Hits&quot; : 182\n",
       "      },\n",
       "      {\n",
       "        &quot;Endpoints&quot; : &quot;(/shuttle/technology/images/srb_mod_compare_3-small.gif,3)&quot;,\n",
       "        &quot;Number of Hits&quot; : 183\n",
       "      },\n",
       "      {\n",
       "        &quot;Endpoints&quot; : &quot;(/shuttle/resources/orbiters/atlantis.html,1)&quot;,\n",
       "        &quot;Number of Hits&quot; : 184\n",
       "      },\n",
       "      {\n",
       "        &quot;Endpoints&quot; : &quot;(/images/rollout.gif,1)&quot;,\n",
       "        &quot;Number of Hits&quot; : 185\n",
       "      },\n",
       "      {\n",
       "        &quot;Endpoints&quot; : &quot;(/shuttle/missions/sts-68/sts-68-patch-small.gif,3)&quot;,\n",
       "        &quot;Number of Hits&quot; : 186\n",
       "      },\n",
       "      {\n",
       "        &quot;Endpoints&quot; : &quot;(/images/mlp-logo.gif,3)&quot;,\n",
       "        &quot;Number of Hits&quot; : 187\n",
       "      },\n",
       "      {\n",
       "        &quot;Endpoints&quot; : &quot;(/images/WORLD-logosmall.gif,34)&quot;,\n",
       "        &quot;Number of Hits&quot; : 188\n",
       "      },\n",
       "      {\n",
       "        &quot;Endpoints&quot; : &quot;(/images/whatsnew.gif,3)&quot;,\n",
       "        &quot;Number of Hits&quot; : 189\n",
       "      },\n",
       "      {\n",
       "        &quot;Endpoints&quot; : &quot;(/images/hq.gif,1)&quot;,\n",
       "        &quot;Number of Hits&quot; : 190\n",
       "      },\n",
       "      {\n",
       "        &quot;Endpoints&quot; : &quot;(/history/skylab/skylab-4.html,1)&quot;,\n",
       "        &quot;Number of Hits&quot; : 191\n",
       "      },\n",
       "      {\n",
       "        &quot;Endpoints&quot; : &quot;(/images/ksclogosmall.gif,19)&quot;,\n",
       "        &quot;Number of Hits&quot; : 192\n",
       "      },\n",
       "      {\n",
       "        &quot;Endpoints&quot; : &quot;(/elv/uplink.htm,1)&quot;,\n",
       "        &quot;Number of Hits&quot; : 193\n",
       "      },\n",
       "      {\n",
       "        &quot;Endpoints&quot; : &quot;(/facilities/vab.html,1)&quot;,\n",
       "        &quot;Number of Hits&quot; : 194\n",
       "      },\n",
       "      {\n",
       "        &quot;Endpoints&quot; : &quot;(/shuttle/missions/61-b/61-b-patch-small.gif,1)&quot;,\n",
       "        &quot;Number of Hits&quot; : 195\n",
       "      },\n",
       "      {\n",
       "        &quot;Endpoints&quot; : &quot;(/shuttle/technology/images/sts_body_2-small.gif,1)&quot;,\n",
       "        &quot;Number of Hits&quot; : 196\n",
       "      },\n",
       "      {\n",
       "        &quot;Endpoints&quot; : &quot;(/history/rocket-history.txt,1)&quot;,\n",
       "        &quot;Number of Hits&quot; : 197\n",
       "      },\n",
       "      {\n",
       "        &quot;Endpoints&quot; : &quot;(/shuttle/missions/sts-71/images/KSC-95EC-0589.gif,1)&quot;,\n",
       "        &quot;Number of Hits&quot; : 198\n",
       "      },\n",
       "      {\n",
       "        &quot;Endpoints&quot; : &quot;(/shuttle/missions/sts-57/sts-57-patch-small.gif,1)&quot;,\n",
       "        &quot;Number of Hits&quot; : 199\n",
       "      },\n",
       "      {\n",
       "        &quot;Endpoints&quot; : &quot;(/images/imagemaps/,1)&quot;,\n",
       "        &quot;Number of Hits&quot; : 200\n",
       "      },\n",
       "      {\n",
       "        &quot;Endpoints&quot; : &quot;(/shuttle/technology/images/srb_mod_compare_1-small.gif,3)&quot;,\n",
       "        &quot;Number of Hits&quot; : 201\n",
       "      },\n",
       "      {\n",
       "        &quot;Endpoints&quot; : &quot;(/history/apollo/apollo-13/apollo-13-info.html,2)&quot;,\n",
       "        &quot;Number of Hits&quot; : 202\n",
       "      },\n",
       "      {\n",
       "        &quot;Endpoints&quot; : &quot;(/history/apollo/apollo-12/apollo-12-info.html,2)&quot;,\n",
       "        &quot;Number of Hits&quot; : 203\n",
       "      },\n",
       "      {\n",
       "        &quot;Endpoints&quot; : &quot;(/shuttle/missions/sts-68/news/sts-68-mcc-11.txt,1)&quot;,\n",
       "        &quot;Number of Hits&quot; : 204\n",
       "      },\n",
       "      {\n",
       "        &quot;Endpoints&quot; : &quot;(/facts/faq07.html,1)&quot;,\n",
       "        &quot;Number of Hits&quot; : 205\n",
       "      },\n",
       "      {\n",
       "        &quot;Endpoints&quot; : &quot;(/shuttle/countdown/,16)&quot;,\n",
       "        &quot;Number of Hits&quot; : 206\n",
       "      },\n",
       "      {\n",
       "        &quot;Endpoints&quot; : &quot;(/shuttle/technology/sts-newsref/stsref-toc.html,2)&quot;,\n",
       "        &quot;Number of Hits&quot; : 207\n",
       "      },\n",
       "      {\n",
       "        &quot;Endpoints&quot; : &quot;(/shuttle/missions/sts-71/images/KSC-95EC-0908.jpg,1)&quot;,\n",
       "        &quot;Number of Hits&quot; : 208\n",
       "      },\n",
       "      {\n",
       "        &quot;Endpoints&quot; : &quot;(/history/apollo/apollo-12/images/,1)&quot;,\n",
       "        &quot;Number of Hits&quot; : 209\n",
       "      },\n",
       "      {\n",
       "        &quot;Endpoints&quot; : &quot;(/software/winvn/userguide/docsrigh.gif,1)&quot;,\n",
       "        &quot;Number of Hits&quot; : 210\n",
       "      },\n",
       "      {\n",
       "        &quot;Endpoints&quot; : &quot;(/images/de-logo.gif,1)&quot;,\n",
       "        &quot;Number of Hits&quot; : 211\n",
       "      },\n",
       "      {\n",
       "        &quot;Endpoints&quot; : &quot;(/history/skylab/skylab-small.gif,2)&quot;,\n",
       "        &quot;Number of Hits&quot; : 212\n",
       "      },\n",
       "      {\n",
       "        &quot;Endpoints&quot; : &quot;(/history/apollo/apollo-12/videos/,3)&quot;,\n",
       "        &quot;Number of Hits&quot; : 213\n",
       "      },\n",
       "      {\n",
       "        &quot;Endpoints&quot; : &quot;(/images/launch-small.gif,1)&quot;,\n",
       "        &quot;Number of Hits&quot; : 214\n",
       "      },\n",
       "      {\n",
       "        &quot;Endpoints&quot; : &quot;(/history/gemini/movies/gemini-launch.mpg,2)&quot;,\n",
       "        &quot;Number of Hits&quot; : 215\n",
       "      },\n",
       "      {\n",
       "        &quot;Endpoints&quot; : &quot;(/facts/facts.html,3)&quot;,\n",
       "        &quot;Number of Hits&quot; : 216\n",
       "      },\n",
       "      {\n",
       "        &quot;Endpoints&quot; : &quot;(/procurement/procurement.html,1)&quot;,\n",
       "        &quot;Number of Hits&quot; : 217\n",
       "      },\n",
       "      {\n",
       "        &quot;Endpoints&quot; : &quot;(/shuttle/missions/sts-69/sts-69-patch-small.gif,3)&quot;,\n",
       "        &quot;Number of Hits&quot; : 218\n",
       "      },\n",
       "      {\n",
       "        &quot;Endpoints&quot; : &quot;(/cgi-bin/imagemap/fr?264,412,1)&quot;,\n",
       "        &quot;Number of Hits&quot; : 219\n",
       "      },\n",
       "      {\n",
       "        &quot;Endpoints&quot; : &quot;(/shuttle/missions/sts-49/sts-49-patch-small.gif,1)&quot;,\n",
       "        &quot;Number of Hits&quot; : 220\n",
       "      },\n",
       "      {\n",
       "        &quot;Endpoints&quot; : &quot;(/shuttle/resources/orbiters/endeavour-logo.gif,4)&quot;,\n",
       "        &quot;Number of Hits&quot; : 221\n",
       "      },\n",
       "      {\n",
       "        &quot;Endpoints&quot; : &quot;(/history/apollo/apollo-1/apollo-1-info.html,2)&quot;,\n",
       "        &quot;Number of Hits&quot; : 222\n",
       "      },\n",
       "      {\n",
       "        &quot;Endpoints&quot; : &quot;(/cgi-bin/imagemap/countdown70?186,284,1)&quot;,\n",
       "        &quot;Number of Hits&quot; : 223\n",
       "      },\n",
       "      {\n",
       "        &quot;Endpoints&quot; : &quot;(/shuttle/countdown/lps/fr.gif,1)&quot;,\n",
       "        &quot;Number of Hits&quot; : 224\n",
       "      },\n",
       "      {\n",
       "        &quot;Endpoints&quot; : &quot;(/cgi-bin/imagemap/countdown70?54,211,1)&quot;,\n",
       "        &quot;Number of Hits&quot; : 225\n",
       "      },\n",
       "      {\n",
       "        &quot;Endpoints&quot; : &quot;(/shuttle/missions/sts-64/sts-64-patch-small.gif,1)&quot;,\n",
       "        &quot;Number of Hits&quot; : 226\n",
       "      },\n",
       "      {\n",
       "        &quot;Endpoints&quot; : &quot;(/elv/vidpicp.htm,1)&quot;,\n",
       "        &quot;Number of Hits&quot; : 227\n",
       "      },\n",
       "      {\n",
       "        &quot;Endpoints&quot; : &quot;(/cgi-bin/imagemap/countdown70?59,186,1)&quot;,\n",
       "        &quot;Number of Hits&quot; : 228\n",
       "      },\n",
       "      {\n",
       "        &quot;Endpoints&quot; : &quot;(/images/landing-small.gif,2)&quot;,\n",
       "        &quot;Number of Hits&quot; : 229\n",
       "      },\n",
       "      {\n",
       "        &quot;Endpoints&quot; : &quot;(/shuttle/countdown/countdown.html,2)&quot;,\n",
       "        &quot;Number of Hits&quot; : 230\n",
       "      },\n",
       "      {\n",
       "        &quot;Endpoints&quot; : &quot;(/htbin/cdt_clock.pl,1)&quot;,\n",
       "        &quot;Number of Hits&quot; : 231\n",
       "      },\n",
       "      {\n",
       "        &quot;Endpoints&quot; : &quot;(/shuttle/missions/sts-71/images/images.html,4)&quot;,\n",
       "        &quot;Number of Hits&quot; : 232\n",
       "      },\n",
       "      {\n",
       "        &quot;Endpoints&quot; : &quot;(/shuttle/missions/sts-75/sts-75-patch-small.gif,1)&quot;,\n",
       "        &quot;Number of Hits&quot; : 233\n",
       "      },\n",
       "      {\n",
       "        &quot;Endpoints&quot; : &quot;(/images/op-logo-small.gif,1)&quot;,\n",
       "        &quot;Number of Hits&quot; : 234\n",
       "      },\n",
       "      {\n",
       "        &quot;Endpoints&quot; : &quot;(/ksc.html,12)&quot;,\n",
       "        &quot;Number of Hits&quot; : 235\n",
       "      },\n",
       "      {\n",
       "        &quot;Endpoints&quot; : &quot;(/software/winvn/userguide/docscont.gif,1)&quot;,\n",
       "        &quot;Number of Hits&quot; : 236\n",
       "      },\n",
       "      {\n",
       "        &quot;Endpoints&quot; : &quot;(/elv/ATLAS_CENTAUR/atlas.gif,1)&quot;,\n",
       "        &quot;Number of Hits&quot; : 237\n",
       "      },\n",
       "      {\n",
       "        &quot;Endpoints&quot; : &quot;(/shuttle/missions/sts-59/news/,1)&quot;,\n",
       "        &quot;Number of Hits&quot; : 238\n",
       "      },\n",
       "      {\n",
       "        &quot;Endpoints&quot; : &quot;(/software/winvn/winvn.html,10)&quot;,\n",
       "        &quot;Number of Hits&quot; : 239\n",
       "      },\n",
       "      {\n",
       "        &quot;Endpoints&quot; : &quot;(/cgi-bin/imagemap/countdown70?285,291,1)&quot;,\n",
       "        &quot;Number of Hits&quot; : 240\n",
       "      },\n",
       "      {\n",
       "        &quot;Endpoints&quot; : &quot;(/persons/nasa-cm/jmd-sm.gif,1)&quot;,\n",
       "        &quot;Number of Hits&quot; : 241\n",
       "      },\n",
       "      {\n",
       "        &quot;Endpoints&quot; : &quot;(/htbin/wais.pl?STS-59,1)&quot;,\n",
       "        &quot;Number of Hits&quot; : 242\n",
       "      },\n",
       "      {\n",
       "        &quot;Endpoints&quot; : &quot;(/images/KSC-94EC-412-small.gif,1)&quot;,\n",
       "        &quot;Number of Hits&quot; : 243\n",
       "      },\n",
       "      {\n",
       "        &quot;Endpoints&quot; : &quot;(/shuttle/missions/sts-71/images/KSC-95EC-0913.jpg,1)&quot;,\n",
       "        &quot;Number of Hits&quot; : 244\n",
       "      },\n",
       "      {\n",
       "        &quot;Endpoints&quot; : &quot;(/msfc/astro_home.html,1)&quot;,\n",
       "        &quot;Number of Hits&quot; : 245\n",
       "      },\n",
       "      {\n",
       "        &quot;Endpoints&quot; : &quot;(/shuttle/missions/sts-71/movies/movies.html,5)&quot;,\n",
       "        &quot;Number of Hits&quot; : 246\n",
       "      },\n",
       "      {\n",
       "        &quot;Endpoints&quot; : &quot;(/shuttle/missions/sts-70/sts-70-patch-small.gif,12)&quot;,\n",
       "        &quot;Number of Hits&quot; : 247\n",
       "      },\n",
       "      {\n",
       "        &quot;Endpoints&quot; : &quot;(/shuttle/missions/sts-71/images/KSC-95EC-0950.gif,1)&quot;,\n",
       "        &quot;Number of Hits&quot; : 248\n",
       "      },\n",
       "      {\n",
       "        &quot;Endpoints&quot; : &quot;(/software/winvn/userguide/winvn30.gif,1)&quot;,\n",
       "        &quot;Number of Hits&quot; : 249\n",
       "      },\n",
       "      {\n",
       "        &quot;Endpoints&quot; : &quot;(/shuttle/missions/61-c/61-c-patch-small.gif,1)&quot;,\n",
       "        &quot;Number of Hits&quot; : 250\n",
       "      },\n",
       "      {\n",
       "        &quot;Endpoints&quot; : &quot;(/shuttle/missions/sts-56/sts-56-patch-small.gif,1)&quot;,\n",
       "        &quot;Number of Hits&quot; : 251\n",
       "      },\n",
       "      {\n",
       "        &quot;Endpoints&quot; : &quot;(/biomed/program.html,1)&quot;,\n",
       "        &quot;Number of Hits&quot; : 252\n",
       "      },\n",
       "      {\n",
       "        &quot;Endpoints&quot; : &quot;(/facts/faq01.html,2)&quot;,\n",
       "        &quot;Number of Hits&quot; : 253\n",
       "      },\n",
       "      {\n",
       "        &quot;Endpoints&quot; : &quot;(/shuttle/missions/sts-70/images/KSC-95EC-0575.gif,1)&quot;,\n",
       "        &quot;Number of Hits&quot; : 254\n",
       "      },\n",
       "      {\n",
       "        &quot;Endpoints&quot; : &quot;(/images/slf-logo.gif,1)&quot;,\n",
       "        &quot;Number of Hits&quot; : 255\n",
       "      },\n",
       "      {\n",
       "        &quot;Endpoints&quot; : &quot;(/shuttle/missions/sts-76/sts-76-patch-small.gif,1)&quot;,\n",
       "        &quot;Number of Hits&quot; : 256\n",
       "      },\n",
       "      {\n",
       "        &quot;Endpoints&quot; : &quot;(/images/op.gif,1)&quot;,\n",
       "        &quot;Number of Hits&quot; : 257\n",
       "      },\n",
       "      {\n",
       "        &quot;Endpoints&quot; : &quot;(/shuttle/missions/51-c/51-c-patch-small.gif,1)&quot;,\n",
       "        &quot;Number of Hits&quot; : 258\n",
       "      },\n",
       "      {\n",
       "        &quot;Endpoints&quot; : &quot;(/persons/nasa-cm/jmd.html,1)&quot;,\n",
       "        &quot;Number of Hits&quot; : 259\n",
       "      },\n",
       "      {\n",
       "        &quot;Endpoints&quot; : &quot;(/history/apollo/apollo-12/apollo-12-patch.jpg,1)&quot;,\n",
       "        &quot;Number of Hits&quot; : 260\n",
       "      },\n",
       "      {\n",
       "        &quot;Endpoints&quot; : &quot;(/shuttle/technology/sts-newsref/sts_asm.html,3)&quot;,\n",
       "        &quot;Number of Hits&quot; : 261\n",
       "      },\n",
       "      {\n",
       "        &quot;Endpoints&quot; : &quot;(/elv/whnew.htm,1)&quot;,\n",
       "        &quot;Number of Hits&quot; : 262\n",
       "      },\n",
       "      {\n",
       "        &quot;Endpoints&quot; : &quot;(/shuttle/technology/sts-newsref/stsover-launch.html,1)&quot;,\n",
       "        &quot;Number of Hits&quot; : 263\n",
       "      },\n",
       "      {\n",
       "        &quot;Endpoints&quot; : &quot;(/pub/winvn/release.txt,1)&quot;,\n",
       "        &quot;Number of Hits&quot; : 264\n",
       "      },\n",
       "      {\n",
       "        &quot;Endpoints&quot; : &quot;(/icons/blank.xbm,10)&quot;,\n",
       "        &quot;Number of Hits&quot; : 265\n",
       "      },\n",
       "      {\n",
       "        &quot;Endpoints&quot; : &quot;(/images/vab-small.gif,1)&quot;,\n",
       "        &quot;Number of Hits&quot; : 266\n",
       "      },\n",
       "      {\n",
       "        &quot;Endpoints&quot; : &quot;(/shuttle/missions/sts-71/images/KSC-95EC-0948.jpg,1)&quot;,\n",
       "        &quot;Number of Hits&quot; : 267\n",
       "      },\n",
       "      {\n",
       "        &quot;Endpoints&quot; : &quot;(/history/apollo/apollo-13/apollo-13-patch.jpg,1)&quot;,\n",
       "        &quot;Number of Hits&quot; : 268\n",
       "      },\n",
       "      {\n",
       "        &quot;Endpoints&quot; : &quot;(/history/apollo/apollo-11/movies/,1)&quot;,\n",
       "        &quot;Number of Hits&quot; : 269\n",
       "      },\n",
       "      {\n",
       "        &quot;Endpoints&quot; : &quot;(/shuttle/missions/sts-70/images/KSC-95EC-0515.gif,1)&quot;,\n",
       "        &quot;Number of Hits&quot; : 270\n",
       "      },\n",
       "      {\n",
       "        &quot;Endpoints&quot; : &quot;(/images/cm-map.gif,1)&quot;,\n",
       "        &quot;Number of Hits&quot; : 271\n",
       "      },\n",
       "      {\n",
       "        &quot;Endpoints&quot; : &quot;(/history/apollo/apollo-12/sounds/,1)&quot;,\n",
       "        &quot;Number of Hits&quot; : 272\n",
       "      },\n",
       "      {\n",
       "        &quot;Endpoints&quot; : &quot;(/history/apollo/apollo-11/sounds/A01106AA.WAV,1)&quot;,\n",
       "        &quot;Number of Hits&quot; : 273\n",
       "      },\n",
       "      {\n",
       "        &quot;Endpoints&quot; : &quot;(/cgi-bin/imagemap/countdown70?289,288,1)&quot;,\n",
       "        &quot;Number of Hits&quot; : 274\n",
       "      },\n",
       "      {\n",
       "        &quot;Endpoints&quot; : &quot;(/shuttle/missions/sts-68/images/ksc.gif,1)&quot;,\n",
       "        &quot;Number of Hits&quot; : 275\n",
       "      },\n",
       "      {\n",
       "        &quot;Endpoints&quot; : &quot;(/history/apollo/apollo-13/movies/,1)&quot;,\n",
       "        &quot;Number of Hits&quot; : 276\n",
       "      },\n",
       "      {\n",
       "        &quot;Endpoints&quot; : &quot;(/shuttle/missions/sts-68/news/sts-68-mcc-17.txt,1)&quot;,\n",
       "        &quot;Number of Hits&quot; : 277\n",
       "      },\n",
       "      {\n",
       "        &quot;Endpoints&quot; : &quot;(/shuttle/resources/orbiters/endeavour.gif,2)&quot;,\n",
       "        &quot;Number of Hits&quot; : 278\n",
       "      },\n",
       "      {\n",
       "        &quot;Endpoints&quot; : &quot;(/history/apollo/flight-summary.txt,1)&quot;,\n",
       "        &quot;Number of Hits&quot; : 279\n",
       "      },\n",
       "      {\n",
       "        &quot;Endpoints&quot; : &quot;(/icons/movie.xbm,2)&quot;,\n",
       "        &quot;Number of Hits&quot; : 280\n",
       "      },\n",
       "      {\n",
       "        &quot;Endpoints&quot; : &quot;(/shuttle/missions/sts-59/sts-59-patch-small.gif,3)&quot;,\n",
       "        &quot;Number of Hits&quot; : 281\n",
       "      },\n",
       "      {\n",
       "        &quot;Endpoints&quot; : &quot;(/,24)&quot;,\n",
       "        &quot;Number of Hits&quot; : 282\n",
       "      },\n",
       "      {\n",
       "        &quot;Endpoints&quot; : &quot;(/elv/PEGASUS/minpeg1.gif,1)&quot;,\n",
       "        &quot;Number of Hits&quot; : 283\n",
       "      },\n",
       "      {\n",
       "        &quot;Endpoints&quot; : &quot;(/shuttle/missions/100th.html,1)&quot;,\n",
       "        &quot;Number of Hits&quot; : 284\n",
       "      },\n",
       "      {\n",
       "        &quot;Endpoints&quot; : &quot;(/history/apollo/apollo-1/images/67HC33.gif,1)&quot;,\n",
       "        &quot;Number of Hits&quot; : 285\n",
       "      },\n",
       "      {\n",
       "        &quot;Endpoints&quot; : &quot;(/images/MOSAIC-logosmall.gif,35)&quot;,\n",
       "        &quot;Number of Hits&quot; : 286\n",
       "      },\n",
       "      {\n",
       "        &quot;Endpoints&quot; : &quot;(/shuttle/missions/sts-68/news/sts-68-mcc-06.txt,1)&quot;,\n",
       "        &quot;Number of Hits&quot; : 287\n",
       "      },\n",
       "      {\n",
       "        &quot;Endpoints&quot; : &quot;(/history/apollo/apollo-11/apollo-11-info.html,2)&quot;,\n",
       "        &quot;Number of Hits&quot; : 288\n",
       "      },\n",
       "      {\n",
       "        &quot;Endpoints&quot; : &quot;(/elv/endball.gif,1)&quot;,\n",
       "        &quot;Number of Hits&quot; : 289\n",
       "      },\n",
       "      {\n",
       "        &quot;Endpoints&quot; : &quot;(/shuttle/missions/sts-66/sts-66-patch-small.gif,2)&quot;,\n",
       "        &quot;Number of Hits&quot; : 290\n",
       "      },\n",
       "      {\n",
       "        &quot;Endpoints&quot; : &quot;(/shuttle/countdown/images/countclock.gif,3)&quot;,\n",
       "        &quot;Number of Hits&quot; : 291\n",
       "      },\n",
       "      {\n",
       "        &quot;Endpoints&quot; : &quot;(/software/winvn/userguide/3_1_1_11.htm,1)&quot;,\n",
       "        &quot;Number of Hits&quot; : 292\n",
       "      },\n",
       "      {\n",
       "        &quot;Endpoints&quot; : &quot;(/shuttle/missions/sts-70/movies/woodpecker.mpg,1)&quot;,\n",
       "        &quot;Number of Hits&quot; : 293\n",
       "      },\n",
       "      {\n",
       "        &quot;Endpoints&quot; : &quot;(/facilities/mlp.html,5)&quot;,\n",
       "        &quot;Number of Hits&quot; : 294\n",
       "      },\n",
       "      {\n",
       "        &quot;Endpoints&quot; : &quot;(/shuttle/missions/sts-68/ksc-srl-image.html,2)&quot;,\n",
       "        &quot;Number of Hits&quot; : 295\n",
       "      },\n",
       "      {\n",
       "        &quot;Endpoints&quot; : &quot;(/shuttle/resources/orbiters/discovery.html,6)&quot;,\n",
       "        &quot;Number of Hits&quot; : 296\n",
       "      },\n",
       "      {\n",
       "        &quot;Endpoints&quot; : &quot;(/shuttle/missions/missions.html,11)&quot;,\n",
       "        &quot;Number of Hits&quot; : 297\n",
       "      },\n",
       "      {\n",
       "        &quot;Endpoints&quot; : &quot;(/biomed/wwwicons/red.gif,1)&quot;,\n",
       "        &quot;Number of Hits&quot; : 298\n",
       "      },\n",
       "      {\n",
       "        &quot;Endpoints&quot; : &quot;(/shuttle/missions/sts-63/sts-63-patch-small.gif,1)&quot;,\n",
       "        &quot;Number of Hits&quot; : 299\n",
       "      },\n",
       "      {\n",
       "        &quot;Endpoints&quot; : &quot;(/history/apollo/apollo-1/images/,2)&quot;,\n",
       "        &quot;Number of Hits&quot; : 300\n",
       "      },\n",
       "      {\n",
       "        &quot;Endpoints&quot; : &quot;(/images/launch.gif,1)&quot;,\n",
       "        &quot;Number of Hits&quot; : 301\n",
       "      },\n",
       "      {\n",
       "        &quot;Endpoints&quot; : &quot;(/images/construct.gif,12)&quot;,\n",
       "        &quot;Number of Hits&quot; : 302\n",
       "      },\n",
       "      {\n",
       "        &quot;Endpoints&quot; : &quot;(/shuttle/missions/sts-71/sts-71-patch-small.gif,8)&quot;,\n",
       "        &quot;Number of Hits&quot; : 303\n",
       "      },\n",
       "      {\n",
       "        &quot;Endpoints&quot; : &quot;(/images/gemini-logo.gif,2)&quot;,\n",
       "        &quot;Number of Hits&quot; : 304\n",
       "      },\n",
       "      {\n",
       "        &quot;Endpoints&quot; : &quot;(/shuttle/missions/sts-1/sts-1-patch-small.gif,1)&quot;,\n",
       "        &quot;Number of Hits&quot; : 305\n",
       "      },\n",
       "      {\n",
       "        &quot;Endpoints&quot; : &quot;(/history/apollo/apollo-1/sounds/,1)&quot;,\n",
       "        &quot;Number of Hits&quot; : 306\n",
       "      },\n",
       "      {\n",
       "        &quot;Endpoints&quot; : &quot;(/facts/about_ksc.html,1)&quot;,\n",
       "        &quot;Number of Hits&quot; : 307\n",
       "      },\n",
       "      {\n",
       "        &quot;Endpoints&quot; : &quot;(/shuttle/countdown/lps/bkup-intg/bkup-intg.html,1)&quot;,\n",
       "        &quot;Number of Hits&quot; : 308\n",
       "      },\n",
       "      {\n",
       "        &quot;Endpoints&quot; : &quot;(/biomed/wwwicons/green.gif,1)&quot;,\n",
       "        &quot;Number of Hits&quot; : 309\n",
       "      },\n",
       "      {\n",
       "        &quot;Endpoints&quot; : &quot;(/shuttle/missions/sts-73/news/,1)&quot;,\n",
       "        &quot;Number of Hits&quot; : 310\n",
       "      },\n",
       "      {\n",
       "        &quot;Endpoints&quot; : &quot;(/cgi-bin/imagemap/countdown70?199,165,1)&quot;,\n",
       "        &quot;Number of Hits&quot; : 311\n",
       "      },\n",
       "      {\n",
       "        &quot;Endpoints&quot; : &quot;(/cgi-bin/imagemap/countdown70?181,287,1)&quot;,\n",
       "        &quot;Number of Hits&quot; : 312\n",
       "      },\n",
       "      {\n",
       "        &quot;Endpoints&quot; : &quot;(/history/skylab/skylab-2.html,2)&quot;,\n",
       "        &quot;Number of Hits&quot; : 313\n",
       "      },\n",
       "      {\n",
       "        &quot;Endpoints&quot; : &quot;(/shuttle/missions/sts-72/sts-72-patch-small.gif,1)&quot;,\n",
       "        &quot;Number of Hits&quot; : 314\n",
       "      },\n",
       "      {\n",
       "        &quot;Endpoints&quot; : &quot;(/shuttle/missions/sts-68/images/ksc-upclose.gif,2)&quot;,\n",
       "        &quot;Number of Hits&quot; : 315\n",
       "      },\n",
       "      {\n",
       "        &quot;Endpoints&quot; : &quot;(/persons/astronauts/u-to-z/YoungJW.txt,1)&quot;,\n",
       "        &quot;Number of Hits&quot; : 316\n",
       "      },\n",
       "      {\n",
       "        &quot;Endpoints&quot; : &quot;(/history/apollo/images/apollo-logo1.gif,23)&quot;,\n",
       "        &quot;Number of Hits&quot; : 317\n",
       "      },\n",
       "      {\n",
       "        &quot;Endpoints&quot; : &quot;(/shuttle/missions/sts-68/news/sts-68-mcc-15.txt,1)&quot;,\n",
       "        &quot;Number of Hits&quot; : 318\n",
       "      },\n",
       "      {\n",
       "        &quot;Endpoints&quot; : &quot;(/shuttle/missions/51-l/51-l-patch-small.gif,1)&quot;,\n",
       "        &quot;Number of Hits&quot; : 319\n",
       "      },\n",
       "      {\n",
       "        &quot;Endpoints&quot; : &quot;(/software/winvn/userguide/wvnguide.gif,1)&quot;,\n",
       "        &quot;Number of Hits&quot; : 320\n",
       "      },\n",
       "      {\n",
       "        &quot;Endpoints&quot; : &quot;(/shuttle/missions/sts-73/sts-73-patch-small.gif,1)&quot;,\n",
       "        &quot;Number of Hits&quot; : 321\n",
       "      },\n",
       "      {\n",
       "        &quot;Endpoints&quot; : &quot;(/elv/elvhead3.gif,1)&quot;,\n",
       "        &quot;Number of Hits&quot; : 322\n",
       "      }\n",
       "    ]\n",
       "  }\n",
       "}\n",
       "   }\n",
       "   vg.embed(&quot;#vegas-44a65494-f97b-41a1-99cf-cfacfa8b67b2&quot;, embedSpec, function(error, result) {});\n",
       " &lt;/script&gt;\n",
       "\n",
       "    &lt;/body&gt;\n",
       "&lt;/html&gt;\"></iframe>\n",
       "  <script>\n",
       "    if (typeof resizeIFrame != 'function') {\n",
       "      function resizeIFrame(el, k) {\n",
       "        $(el.contentWindow.document).ready(function() {\n",
       "          el.style.height = el.contentWindow.document.body.scrollHeight + 'px';\n",
       "        });\n",
       "        if (k <= 10) { setTimeout(function() { resizeIFrame(el, k+1) }, 1000 + (k * 250)) };\n",
       "      }\n",
       "    }\n",
       "    $().ready( function() { resizeIFrame($('#frame-vegas-44a65494-f97b-41a1-99cf-cfacfa8b67b2').get(0), 1); });\n",
       "  </script>\n",
       "    "
      ]
     },
     "metadata": {},
     "output_type": "display_data"
    },
    {
     "data": {
      "text/plain": [
       "endpoints = MapPartitionsRDD[137] at map at <console>:88\n",
       "ends_counts = Array((/cgi-bin/imagemap/countdown70?183,288,1), (/history/apollo/apollo-goals.txt,1), (/images/shuttle-patch-logo.gif,4), (/shuttle/missions/sts-70/movies/movies.html,4), (/history/gemini/gemini.html,3), (/biomed/wwwicons/blue.gif,1), (/persons/nasa-cm/mike-sm.gif,1), (/icons/text.xbm,4), (/shuttle/missions/51-c/mission-51-c.html,1), (/shuttle/missions/sts-68/news/sts-68-mcc-18.txt,1), (/shuttle/missions/61-c/mission-61-c.html,1), (/htbin/cdt_main.pl,4), (/shuttle/technology/images/sts_spec_6-small.gif,1), (/software/winvn/bluemarb.gif,10), (/images/launchpalms-small.gif,1), (/shuttle/missions/sts-56/mission-sts-56.html,1), (/shuttle/technology/sts-newsref/srb....\n"
      ]
     },
     "metadata": {},
     "output_type": "display_data"
    },
    {
     "data": {
      "text/plain": [
       "Array((/cgi-bin/imagemap/countdown70?183,288,1), (/history/apollo/apollo-goals.txt,1), (/images/shuttle-patch-logo.gif,4), (/shuttle/missions/sts-70/movies/movies.html,4), (/history/gemini/gemini.html,3), (/biomed/wwwicons/blue.gif,1), (/persons/nasa-cm/mike-sm.gif,1), (/icons/text.xbm,4), (/shuttle/missions/51-c/mission-51-c.html,1), (/shuttle/missions/sts-68/news/sts-68-mcc-18.txt,1), (/shuttle/missions/61-c/mission-61-c.html,1), (/htbin/cdt_main.pl,4), (/shuttle/technology/images/sts_spec_6-small.gif,1), (/software/winvn/bluemarb.gif,10), (/images/launchpalms-small.gif,1), (/shuttle/missions/sts-56/mission-sts-56.html,1), (/shuttle/technology/sts-newsref/srb...."
      ]
     },
     "execution_count": 45,
     "metadata": {},
     "output_type": "execute_result"
    }
   ],
   "source": [
    "// TODO: Replace ??? with appropriate code\n",
    "// Assign the endpoints <key, value> counts to variable \"endpoints\" using .map() and .reduceByKey().\n",
    "// Assign the count to variables \"end_counts\" (don't forget to collect).\n",
    "// Normally we would show the labels in the x axis but it doesn't work in the notebook\n",
    "// However we only wanted to see the number of hits so the labels are not very important here\n",
    "\n",
    "val endpoints = access_logs.map(_.endpoint)\n",
    "val ends_counts = endpoints.map(_ -> 1).reduceByKey(_ + _).collect\n",
    "\n",
    "Vegas(\"404 Response d by Day\",width=800).\n",
    "  mark(Bar).\n",
    "  withData(ends_counts.zipWithIndex.map(x => Map(\"Endpoints\"->x._1,\"Number of Hits\"->x._2))).\n",
    "  encodeX(\"Endpoints\", Nom).\n",
    "  encodeY(\"Number of Hits\", Quant).\n",
    "  show\n"
   ]
  },
  {
   "cell_type": "markdown",
   "metadata": {},
   "source": [
    "## 5. Top 10 transferred bytes hosts\n",
    "\n",
    "Now, let's answer the following question. Who are the top 10 hosts in terms of transferred bytes (content size) ? \n",
    "\n",
    "To perform this task, use RDD transformations `map`, `reduceByKey` and [`takeOrdered`](https://spark.apache.org/docs/latest/api/scala/index.html#org.apache.spark.rdd.RDD@takeOrdered(num:Int)(implicitord:Ordering[T]):Array[T])."
   ]
  },
  {
   "cell_type": "code",
   "execution_count": 24,
   "metadata": {},
   "outputs": [
    {
     "data": {
      "text/plain": [
       "top_10_hosts = Array((uplherc.upl.com,2417420), (haraway.ucet.ufl.edu,2146536), (www-d3.proxy.aol.com,905926), (ad11-061.compuserve.com,793953), (pm9.j51.com,760823), (piweba3y.prodigy.com,557026), (rpgopher.aist.go.jp,413561), (133.43.96.45,410971), (dialip129.gov.bc.ca,379590), (www-d1.proxy.aol.com,358850))\n"
      ]
     },
     "metadata": {},
     "output_type": "display_data"
    },
    {
     "data": {
      "text/plain": [
       "Array((uplherc.upl.com,2417420), (haraway.ucet.ufl.edu,2146536), (www-d3.proxy.aol.com,905926), (ad11-061.compuserve.com,793953), (pm9.j51.com,760823), (piweba3y.prodigy.com,557026), (rpgopher.aist.go.jp,413561), (133.43.96.45,410971), (dialip129.gov.bc.ca,379590), (www-d1.proxy.aol.com,358850))"
      ]
     },
     "execution_count": 24,
     "metadata": {},
     "output_type": "execute_result"
    }
   ],
   "source": [
    "// TODO: Replace ??? with appropriate code\n",
    "// Assign the top 10 hosts considering transfered bytes to the variable \"top_10_hosts\".\n",
    "val top_10_hosts = access_logs\n",
    "  .map(l => l.host -> l.content_size)\n",
    "  .reduceByKey(_ + _)\n",
    "  .takeOrdered(10)(Ordering.by[(String, Int), Int](-_._2))"
   ]
  },
  {
   "cell_type": "code",
   "execution_count": null,
   "metadata": {},
   "outputs": [],
   "source": [
    "// TEST : Top 10 tranfered bytes hosts\n",
    "assertEquals(top_10_hosts.length, 10, \"top_10_hosts had to be length 10\")\n",
    "assertEquals(top_10_hosts.toList, List(\"news.ti.com\", \"www-relay.pa-x.dec.com\", \"piweba5y.prodigy.com\", \"e659229.boeing.com\", \"piweba3y.prodigy.com\", \"www-c2.proxy.aol.com\", \"163.206.89.4\", \"www-b3.proxy.aol.com\", \"webgate1.mot.com\", \"gatekeeper.cca.rockwell.com\"), \"Incorrect top 10 hosts\")"
   ]
  },
  {
   "cell_type": "markdown",
   "metadata": {},
   "source": [
    "# Part 3 : Analyzing Web Server Log File with Spark SQL\n",
    " \n",
    "Now it is time to perform advanced analytics on web server log files using Spark SQL.\n",
    "\n"
   ]
  },
  {
   "cell_type": "markdown",
   "metadata": {},
   "source": [
    "## 1. Transform Spark RDD to Spark SQL dataframe\n",
    "\n",
    "In order to use Spark SQL functionalities, you need to transform your logs data spark RDD to a Spark SQL dataframe. To perform this task, you can refer to the Spark lectures provided in classroom or spark documentation. After dataframe load, make sure that dataframe column casting is correct using method `printSchema`."
   ]
  },
  {
   "cell_type": "code",
   "execution_count": 28,
   "metadata": {},
   "outputs": [
    {
     "name": "stdout",
     "output_type": "stream",
     "text": [
      "root\n",
      " |-- host: string (nullable = true)\n",
      " |-- client_identd: string (nullable = true)\n",
      " |-- user_id: string (nullable = true)\n",
      " |-- date_time: timestamp (nullable = true)\n",
      " |-- method: string (nullable = true)\n",
      " |-- endpoint: string (nullable = true)\n",
      " |-- protocol: string (nullable = true)\n",
      " |-- response_code: integer (nullable = false)\n",
      " |-- content_size: integer (nullable = false)\n",
      "\n"
     ]
    },
    {
     "data": {
      "text/plain": [
       "spark = org.apache.spark.sql.SparkSession@7781eaad\n",
       "sc = org.apache.spark.SparkContext@3e5b9544\n",
       "logs_df = [host: string, client_identd: string ... 7 more fields]\n"
      ]
     },
     "metadata": {},
     "output_type": "display_data"
    },
    {
     "data": {
      "text/plain": [
       "<console>:6: error: Symbol 'type scala.AnyRef' is missing from the classpath.\n",
       "This symbol is required by 'class org.apache.spark.sql.catalyst.QualifiedTableName'.\n",
       "Make sure that type AnyRef is in your classpath and check for conflicting dependencies with `-Ylog-classpath`.\n",
       "A full rebuild may help if 'QualifiedTableName.class' was compiled against an incompatible version of scala.\n",
       "  lazy val $print: String =  {\n",
       "           ^\n"
      ]
     },
     "metadata": {},
     "output_type": "display_data"
    },
    {
     "data": {
      "text/plain": [
       "[host: string, client_identd: string ... 7 more fields]"
      ]
     },
     "execution_count": 28,
     "metadata": {},
     "output_type": "execute_result"
    }
   ],
   "source": [
    "// TODO: Replace <FILL IN> with appropriate code\n",
    "// Transform the access_logs spark RDD into Spark SQL Dataframe.\n",
    "// Hint : Use the toDF method.\n",
    "import org.apache.spark._\n",
    "\n",
    "val spark = SparkSession.builder\n",
    ".appName(\"lab1_word_count_text\")\n",
    ".master(\"local[*]\")\n",
    ".getOrCreate()\n",
    "val sc = spark.sparkContext\n",
    "\n",
    "import spark.implicits._\n",
    "\n",
    "val logs_df: Dataset[Log] = access_logs.toDS\n",
    "logs_df.cache()\n",
    "logs_df.printSchema()"
   ]
  },
  {
   "cell_type": "code",
   "execution_count": 29,
   "metadata": {},
   "outputs": [
    {
     "name": "stdout",
     "output_type": "stream",
     "text": [
      "1 test passed\n",
      "1 test passed\n"
     ]
    },
    {
     "data": {
      "text/plain": [
       "()"
      ]
     },
     "execution_count": 29,
     "metadata": {},
     "output_type": "execute_result"
    }
   ],
   "source": [
    "// TEST : Transform Spark RDD to Spark SQL dataframe\n",
    "assertEquals(logs_df.getClass.toString, \"class org.apache.spark.sql.Dataset\", \"logs_df is not a Spark Dataset.\")\n",
    "assertEquals(logs_df.dtypes.toList.sortBy(_._1) , List((\"client_identd\", \"StringType\"), (\"content_size\", \"IntegerType\"), (\"date_time\", \"TimestampType\"), (\"endpoint\", \"StringType\"), (\"host\", \"StringType\"), (\"method\", \"StringType\"), (\"protocol\", \"StringType\"), (\"response_code\", \"IntegerType\"), (\"user_id\", \"StringType\")), \"Dataframe casting is not correct.\")"
   ]
  },
  {
   "cell_type": "markdown",
   "metadata": {},
   "source": [
    "## 2. Top 10 error endpoints\n",
    "\n",
    "What are the top twenty paths which did not have return code 200? Create a sorted list containing the paths and the number of times that they were accessed with a non-200 return code and show the top ten.\n",
    "\n",
    "Think about the steps that you need to perform to determine which paths did not have a 200 return code, how you will uniquely count those paths and sort the list."
   ]
  },
  {
   "cell_type": "code",
   "execution_count": 46,
   "metadata": {},
   "outputs": [
    {
     "name": "stdout",
     "output_type": "stream",
     "text": [
      "Top Ten failed URLs:\n",
      "+---------------------------------------+-----+\n",
      "|endpoint                               |count|\n",
      "+---------------------------------------+-----+\n",
      "|/images/NASA-logosmall.gif             |9    |\n",
      "|/images/KSC-logosmall.gif              |6    |\n",
      "|/shuttle/countdown/count70.gif         |4    |\n",
      "|/images/MOSAIC-logosmall.gif           |4    |\n",
      "|/images/USA-logosmall.gif              |4    |\n",
      "|/images/WORLD-logosmall.gif            |4    |\n",
      "|/images/ksclogo-medium.gif             |2    |\n",
      "|/shuttle/countdown/                    |2    |\n",
      "|/history/apollo/images/apollo-logo1.gif|2    |\n",
      "|/icons/blank.xbm                       |2    |\n",
      "+---------------------------------------+-----+\n",
      "only showing top 10 rows\n",
      "\n",
      "[/images/NASA-logosmall.gif,9] [/images/KSC-logosmall.gif,6] [/shuttle/countdown/count70.gif,4] [/images/MOSAIC-logosmall.gif,4] [/images/USA-logosmall.gif,4] [/images/WORLD-logosmall.gif,4] [/images/ksclogo-medium.gif,2] [/shuttle/countdown/,2] [/images/launch-logo.gif,2] [/icons/blank.xbm,2]\n"
     ]
    },
    {
     "data": {
      "text/plain": [
       "not200_df = [host: string, client_identd: string ... 7 more fields]\n",
       "logs_sum_df = [endpoint: string, count: bigint]\n",
       "sorted_logs_sum_df = [endpoint: string, count: bigint]\n",
       "top_ten_err_urls = List([/images/NASA-logosmall.gif,9], [/images/KSC-logosmall.gif,6], [/shuttle/countdown/count70.gif,4], [/images/MOSAIC-logosmall.gif,4], [/images/USA-logosmall.gif,4], [/images/WORLD-logosmall.gif,4], [/images/ksclogo-medium.gif,2], [/shuttle/countdown/,2], [/images/launch-logo.gif,2], [/icons/blank.xbm,2])\n"
      ]
     },
     "metadata": {},
     "output_type": "display_data"
    },
    {
     "data": {
      "text/plain": [
       "warning: there was one deprecation warning; re-run with -deprecation for details\n"
      ]
     },
     "metadata": {},
     "output_type": "display_data"
    },
    {
     "data": {
      "text/plain": [
       "List([/images/NASA-logosmall.gif,9], [/images/KSC-logosmall.gif,6], [/shuttle/countdown/count70.gif,4], [/images/MOSAIC-logosmall.gif,4], [/images/USA-logosmall.gif,4], [/images/WORLD-logosmall.gif,4], [/images/ksclogo-medium.gif,2], [/shuttle/countdown/,2], [/images/launch-logo.gif,2], [/icons/blank.xbm,2])"
      ]
     },
     "execution_count": 46,
     "metadata": {},
     "output_type": "execute_result"
    }
   ],
   "source": [
    "// TODO: Replace ??? with appropriate code\n",
    "// Assign logs with status different than 200 to variable \"not200_df\".\n",
    "// Assign the counts per endpoint dataframe to variable \"logs_sums_df\". \n",
    "// Descending sort the logs_sum_df and assign the result to variable \"sorted_logs_sum_df\".\n",
    "// Collect the top 10 endpoints and assign it to variable \"top_ten_err_urls\".\n",
    "// Hint : You will need to use methods .groupBy() and .sort() to achieve this task.\n",
    "// Note : You are welcome to structure your solution in a different way, so long as\n",
    "// you ensure the variables used in the next Test section are defined (ie. logs_sum_df, top_ten_err_urls).\n",
    "\n",
    "import org.apache.spark.sql.functions._\n",
    "\n",
    "val not200_df = logs_df.where($\"response_code\" !== lit(200))\n",
    "val logs_sum_df = not200_df.groupBy($\"endpoint\").count\n",
    "val sorted_logs_sum_df = logs_sum_df.orderBy($\"count\".desc)\n",
    "val top_ten_err_urls = sorted_logs_sum_df.take(10).toList\n",
    "\n",
    "// Display\n",
    "println(\"Top Ten failed URLs:\")\n",
    "sorted_logs_sum_df.show(10, false)\n",
    "println(top_ten_err_urls.mkString(\" \"))"
   ]
  },
  {
   "cell_type": "code",
   "execution_count": null,
   "metadata": {},
   "outputs": [],
   "source": [
    "// TEST Top ten error endpoints\n",
    "import org.apache.spark.sql._\n",
    "assertEquals(logs_sum_df.count(), 7689, \"incorrect count for endpointSum\")\n",
    "assertEquals(top_ten_err_urls.toList, List(Row(s\"/images/NASA-logosmall.gif\", 8761), Row(s\"/images/KSC-logosmall.gif\", 7236), Row(s\"/images/MOSAIC-logosmall.gif\", 5197), Row(s\"/images/USA-logosmall.gif\", 5157), Row(s\"/images/WORLD-logosmall.gif\", 5020), Row(s\"/images/ksclogo-medium.gif\", 4728), Row(s\"/history/apollo/images/apollo-logo1.gif\", 2907), Row(s\"/images/launch-logo.gif\", 2811), Row(s\"/\", 2199), Row(s\"/images/ksclogosmall.gif\", 1622)), \"incorrect Top Ten failed URLs (topTenErrURLs)\")"
   ]
  },
  {
   "cell_type": "markdown",
   "metadata": {},
   "source": [
    "## 3. Number of Unique Hosts\n",
    "\n",
    "How many unique hosts are there in the entire log?\n",
    "\n",
    " \n",
    "Think about the steps that you need to perform to count the number of different hosts in the log.\n",
    "\n"
   ]
  },
  {
   "cell_type": "code",
   "execution_count": 33,
   "metadata": {},
   "outputs": [
    {
     "name": "stdout",
     "output_type": "stream",
     "text": [
      "Unique hosts: 102\n"
     ]
    },
    {
     "data": {
      "text/plain": [
       "unique_host_count = 102\n"
      ]
     },
     "metadata": {},
     "output_type": "display_data"
    },
    {
     "data": {
      "text/plain": [
       "102"
      ]
     },
     "execution_count": 33,
     "metadata": {},
     "output_type": "execute_result"
    }
   ],
   "source": [
    "// TODO: Replace ??? with appropriate code\n",
    "// Note : There are several ways to achieve this task.\n",
    "val unique_host_count = logs_df.select($\"host\").distinct.count\n",
    "println(s\"Unique hosts: ${unique_host_count}\")"
   ]
  },
  {
   "cell_type": "code",
   "execution_count": null,
   "metadata": {},
   "outputs": [],
   "source": [
    "// TEST Number of unique hosts\n",
    "assertEquals(unique_host_count, 54507, \"incorrect unique_host_count\")"
   ]
  },
  {
   "cell_type": "markdown",
   "metadata": {},
   "source": [
    "## 4. Extract the date day using an UDF\n",
    "\n",
    "In the next questions, we will compute the number of unique Daily hosts given the day of the month. To perform this following task, we need to create a new column which contains the day of the month (from 01 to 31). Fortunately, the day of the month is contained in the column `date_time` pattern.\n",
    "\n",
    "_Note_ : There are several ways to achieve this task including using method `dayofmonth` from spark.sql.functions. In this exercise, we will use a UDF based solution in order to make you practice with the UDF concept. It is strongly recommended for you to look at the UDF slides provided during lecture 3.\n",
    "\n",
    "_Note_ : Since the log only covers a single month, you can ignore the month."
   ]
  },
  {
   "cell_type": "code",
   "execution_count": 39,
   "metadata": {},
   "outputs": [
    {
     "name": "stdout",
     "output_type": "stream",
     "text": [
      "1 test passed\n",
      "1 test passed\n"
     ]
    },
    {
     "data": {
      "text/plain": [
       "date_to_day = > String = <function1>\n",
       "my_udf = UserDefinedFunction(<function1>,StringType,Some(List(TimestampType)))\n",
       "logs_df_with_day = [host: string, client_identd: string ... 8 more fields]\n"
      ]
     },
     "metadata": {},
     "output_type": "display_data"
    },
    {
     "data": {
      "text/plain": [
       "[host: string, client_identd: string ... 8 more fields]"
      ]
     },
     "execution_count": 39,
     "metadata": {},
     "output_type": "execute_result"
    }
   ],
   "source": [
    "// TODO: Replace <FILL IN> with appropriate code\n",
    "// Complete the function 'date_to_day' in order to return the day of the month.\n",
    "// Wrap the function into and UDF object. Assign the result to variable \"my_udf\".\n",
    "// Apply the UDF on logs_df using method .WithColumn(). The resulting column has to be named \"day\". Assign the resulting\n",
    "// dataframe to variable \"logs_df_with_day\".\n",
    "import org.apache.spark.sql.functions.udf\n",
    "\n",
    "val date_to_day = (date : Timestamp) => {\n",
    "    /*\n",
    "    Extracts the day of month in variable date.\n",
    "    date : timestamp with pattern \"yyyy-mm-dd hh:mm:ss\"\n",
    "    returns : day of the month (pattern 'dd')\n",
    "    */\n",
    "    val str_date = date.toString\n",
    "    str_date.substring(8, 10)\n",
    "}\n",
    "    \n",
    "\n",
    "// testing the function\n",
    "assertEquals(date_to_day(Timestamp.valueOf(\"1995-08-01 00:00:07\")), \"01\", \"function date_to_day is not correct.\")\n",
    "assertEquals(date_to_day(Timestamp.valueOf(\"2017-09-17 10:00:07\")), \"17\", \"function date_to_day is not correct.\")\n",
    "\n",
    "// Wrap in a UDF and apply on logs_df\n",
    "val date_to_day_udf = udf[String, Timestamp](date_to_day)\n",
    "val logs_df_with_day = logs_df.withColumn(\"day\", date_to_day_udf($\"date_time\"))\n",
    "// logs_df_with_day.show(5)"
   ]
  },
  {
   "cell_type": "code",
   "execution_count": 38,
   "metadata": {},
   "outputs": [
    {
     "data": {
      "text/html": [
       "<table><tr><th>host</th><th>client_identd</th><th>user_id</th><th>date_time</th><th>method</th><th>endpoint</th><th>protocol</th><th>response_code</th><th>content_size</th><th>day</th></tr><tr><td>in24.inetnebr.com</td><td>-</td><td>-</td><td>1995-08-01 00:00:01.0</td><td>GET</td><td>/shuttle/missions/sts-68/news/sts-68-mcc-05.txt</td><td>HTTP/1.0</td><td>200</td><td>1839</td><td>01</td></tr><tr><td>uplherc.upl.com</td><td>-</td><td>-</td><td>1995-08-01 00:00:07.0</td><td>GET</td><td>/</td><td>HTTP/1.0</td><td>304</td><td>0</td><td>01</td></tr><tr><td>uplherc.upl.com</td><td>-</td><td>-</td><td>1995-08-01 00:00:08.0</td><td>GET</td><td>/images/ksclogo-medium.gif</td><td>HTTP/1.0</td><td>304</td><td>0</td><td>01</td></tr><tr><td>uplherc.upl.com</td><td>-</td><td>-</td><td>1995-08-01 00:00:08.0</td><td>GET</td><td>/images/MOSAIC-logosmall.gif</td><td>HTTP/1.0</td><td>304</td><td>0</td><td>01</td></tr><tr><td>uplherc.upl.com</td><td>-</td><td>-</td><td>1995-08-01 00:00:08.0</td><td>GET</td><td>/images/USA-logosmall.gif</td><td>HTTP/1.0</td><td>304</td><td>0</td><td>01</td></tr><tr><td>ix-esc-ca2-07.ix.netcom.com</td><td>-</td><td>-</td><td>1995-08-01 00:00:09.0</td><td>GET</td><td>/images/launch-logo.gif</td><td>HTTP/1.0</td><td>200</td><td>1713</td><td>01</td></tr><tr><td>uplherc.upl.com</td><td>-</td><td>-</td><td>1995-08-01 00:00:10.0</td><td>GET</td><td>/images/WORLD-logosmall.gif</td><td>HTTP/1.0</td><td>304</td><td>0</td><td>01</td></tr><tr><td>slppp6.intermind.net</td><td>-</td><td>-</td><td>1995-08-01 00:00:10.0</td><td>GET</td><td>/history/skylab/skylab.html</td><td>HTTP/1.0</td><td>200</td><td>1687</td><td>01</td></tr><tr><td>piweba4y.prodigy.com</td><td>-</td><td>-</td><td>1995-08-01 00:00:10.0</td><td>GET</td><td>/images/launchmedium.gif</td><td>HTTP/1.0</td><td>200</td><td>11853</td><td>01</td></tr><tr><td>slppp6.intermind.net</td><td>-</td><td>-</td><td>1995-08-01 00:00:11.0</td><td>GET</td><td>/history/skylab/skylab-small.gif</td><td>HTTP/1.0</td><td>200</td><td>9202</td><td>01</td></tr></table>"
      ]
     },
     "execution_count": 38,
     "metadata": {},
     "output_type": "execute_result"
    }
   ],
   "source": [
    "%%dataframe\n",
    "logs_df_with_day"
   ]
  },
  {
   "cell_type": "code",
   "execution_count": 47,
   "metadata": {},
   "outputs": [
    {
     "data": {
      "text/plain": [
       "distinct_days = Array([01])\n"
      ]
     },
     "metadata": {},
     "output_type": "display_data"
    },
    {
     "data": {
      "text/plain": [
       "1"
      ]
     },
     "execution_count": 47,
     "metadata": {},
     "output_type": "execute_result"
    }
   ],
   "source": [
    "// TEST Extract the month day using an UDF\n",
    "val distinct_days = logs_df_with_day.select(\"day\").distinct().collect()\n",
    "distinct_days.length\n",
    "//assertEquals(distinct_days.length, 21, \"it seems that UDF is misapplied\")"
   ]
  },
  {
   "cell_type": "markdown",
   "metadata": {},
   "source": [
    "## 5. Number of Unique Daily Hosts\n",
    "\n",
    "For an advanced exercise, let's determine the number of unique hosts in the entire log on a day-by-day basis. This computation will give us counts of the number of unique daily hosts. We'd like a DataFrame sorted by increasing day of the month which includes the day of the month and the associated number of unique hosts for that day. Make sure you cache the resulting DataFrame `daily_hosts_df` so that we can reuse it in the next exercise.\n",
    "\n",
    "Think about the steps that you need to perform to count the number of different hosts that make requests *each* day.\n",
    "*Since the log only covers a single month, you can ignore the month.*  You may want to use the `day` column you have computed in the previous task."
   ]
  },
  {
   "cell_type": "code",
   "execution_count": 42,
   "metadata": {},
   "outputs": [
    {
     "name": "stdout",
     "output_type": "stream",
     "text": [
      "Unique hosts per day:\n",
      "+---+-----+\n",
      "|day|count|\n",
      "+---+-----+\n",
      "|01 |102  |\n",
      "+---+-----+\n",
      "\n"
     ]
    },
    {
     "data": {
      "text/plain": [
       "day_to_host_pair_df = [day: string, host: string]\n",
       "day_group_hosts_df = [day: string, host: string]\n",
       "daily_hosts_df = [day: string, count: bigint]\n",
       "daily_hosts_df_sorted = [day: string, count: bigint]\n",
       "daily_hosts_list = Array([01,102])\n"
      ]
     },
     "metadata": {},
     "output_type": "display_data"
    },
    {
     "data": {
      "text/plain": [
       "warning: there was one feature warning; re-run with -feature for details\n"
      ]
     },
     "metadata": {},
     "output_type": "display_data"
    },
    {
     "data": {
      "text/plain": [
       "[day: string, count: bigint]"
      ]
     },
     "execution_count": 42,
     "metadata": {},
     "output_type": "execute_result"
    }
   ],
   "source": [
    "// TODO: Replace ??? with appropriate code\n",
    "// Select columns \"day\" and \"host\" from \"logs_df_with_day\" dataframe and assign the result to \"day_to_host_pair_df\".\n",
    "// Remove duplicates <\"day\", \"host\"> duplicates using method .distinct(). Assign the result to day_group_hosts_df.\n",
    "// Group by day and count the distinct hosts. Assign the result dataframe to \"daily_hosts_df\".\n",
    "// Sort per day and assign the result to \"daily_hosts_df_sorted\".\n",
    "// Collect the result to driver. Assign the result to variable \"daily_hosts_list\".\n",
    "\n",
    "val day_to_host_pair_df = logs_df_with_day.select(\"day\", \"host\")\n",
    "val day_group_hosts_df = day_to_host_pair_df.distinct\n",
    "val daily_hosts_df = day_group_hosts_df.groupBy(\"day\").count\n",
    "val daily_hosts_df_sorted = daily_hosts_df.orderBy($\"day\" desc)\n",
    "val daily_hosts_list = daily_hosts_df_sorted.collect\n",
    "\n",
    "println(\"Unique hosts per day:\")\n",
    "daily_hosts_df_sorted.show(30, false)\n",
    "daily_hosts_df.cache()"
   ]
  },
  {
   "cell_type": "code",
   "execution_count": null,
   "metadata": {},
   "outputs": [],
   "source": [
    "// TEST Number of unique daily hosts (3c)\n",
    "assertEquals(daily_hosts_df.count(), 21, \"incorrect dailyHosts.count()\")\n",
    "assertEquals(daily_hosts_list.toList, List(Row(\"01\", 2582), Row(\"03\", 3222), Row(\"04\", 4190), Row(\"05\", 2502), Row(\"06\", 2537), Row(\"07\", 4106), Row(\"08\", 4406), Row(\"09\", 4317), Row(\"10\", 4523), Row(\"11\", 4346), Row(\"12\", 2864), Row(\"13\", 2650), Row(\"14\", 4454), Row(\"15\", 4214), Row(\"16\", 4340), Row(\"17\", 4385), Row(\"18\", 4168), Row(\"19\", 2550), Row(\"20\", 2560), Row(\"21\", 4134), Row(\"22\", 4456)), \"incorrect dailyHostsList\")\n",
    "assertEquals(daily_hosts_df.storageLevel.useMemory, true, \"incorrect dailyHosts.is_cached\")"
   ]
  },
  {
   "cell_type": "code",
   "execution_count": 48,
   "metadata": {},
   "outputs": [
    {
     "data": {
      "text/html": [
       "\n",
       "  <iframe id=\"frame-vegas-669be0a9-f7d0-4773-9c0a-aece69430028\" sandbox=\"allow-scripts allow-same-origin\" style=\"border: none; width: 100%\" srcdoc=\"&lt;html&gt;\n",
       "  &lt;head&gt;\n",
       "    &lt;script src=&quot;https://cdn.jsdelivr.net/webjars/org.webjars.bower/d3/3.5.17/d3.min.js&quot; charset=&quot;utf-8&quot;&gt;&lt;/script&gt;\n",
       "&lt;script src=&quot;https://cdn.jsdelivr.net/webjars/org.webjars.bower/vega/2.6.3/vega.min.js&quot; charset=&quot;utf-8&quot;&gt;&lt;/script&gt;\n",
       "&lt;script src=&quot;https://cdn.jsdelivr.net/webjars/org.webjars.bower/vega-lite/1.2.0/vega-lite.min.js&quot; charset=&quot;utf-8&quot;&gt;&lt;/script&gt;\n",
       "&lt;script src=&quot;https://vega.github.io/vega-editor/vendor/vega-embed.js&quot; charset=&quot;utf-8&quot;&gt;&lt;/script&gt;\n",
       "  &lt;/head&gt;\n",
       "  &lt;body&gt;\n",
       " &lt;div id='vegas-669be0a9-f7d0-4773-9c0a-aece69430028'&gt;&lt;/div&gt;\n",
       " &lt;script&gt;\n",
       "   var embedSpec = {\n",
       "     mode: &quot;vega-lite&quot;,\n",
       "     spec: {\n",
       "  &quot;mark&quot; : &quot;line&quot;,\n",
       "  &quot;encoding&quot; : {\n",
       "    &quot;x&quot; : {\n",
       "      &quot;axis&quot; : {\n",
       "        &quot;title&quot; : &quot;Day&quot;\n",
       "      },\n",
       "      &quot;field&quot; : &quot;day&quot;,\n",
       "      &quot;type&quot; : &quot;nominal&quot;\n",
       "    },\n",
       "    &quot;y&quot; : {\n",
       "      &quot;axis&quot; : {\n",
       "        &quot;title&quot; : &quot;Hosts&quot;\n",
       "      },\n",
       "      &quot;field&quot; : &quot;count&quot;,\n",
       "      &quot;type&quot; : &quot;quantitative&quot;\n",
       "    }\n",
       "  },\n",
       "  &quot;description&quot; : &quot;404 Response Codes by Day&quot;,\n",
       "  &quot;data&quot; : {\n",
       "    &quot;values&quot; : [\n",
       "      {\n",
       "        &quot;day&quot; : &quot;01&quot;,\n",
       "        &quot;count&quot; : 102\n",
       "      }\n",
       "    ]\n",
       "  }\n",
       "}\n",
       "   }\n",
       "   vg.embed(&quot;#vegas-669be0a9-f7d0-4773-9c0a-aece69430028&quot;, embedSpec, function(error, result) {});\n",
       " &lt;/script&gt;\n",
       "\n",
       "    &lt;/body&gt;\n",
       "&lt;/html&gt;\"></iframe>\n",
       "  <script>\n",
       "    if (typeof resizeIFrame != 'function') {\n",
       "      function resizeIFrame(el, k) {\n",
       "        $(el.contentWindow.document).ready(function() {\n",
       "          el.style.height = el.contentWindow.document.body.scrollHeight + 'px';\n",
       "        });\n",
       "        if (k <= 10) { setTimeout(function() { resizeIFrame(el, k+1) }, 1000 + (k * 250)) };\n",
       "      }\n",
       "    }\n",
       "    $().ready( function() { resizeIFrame($('#frame-vegas-669be0a9-f7d0-4773-9c0a-aece69430028').get(0), 1); });\n",
       "  </script>\n",
       "    "
      ]
     },
     "metadata": {},
     "output_type": "display_data"
    }
   ],
   "source": [
    "// plotting your results :\n",
    "\n",
    "Vegas(\"404 Response Codes by Day\").\n",
    "  mark(Line).\n",
    "  withDataFrame(daily_hosts_df_sorted).\n",
    "  encodeX(\"day\", Nom, axis=Axis(title=\"Day\")).\n",
    "  encodeY(\"count\", Quant, axis=Axis(title=\"Hosts\")).\n",
    "  show\n"
   ]
  },
  {
   "cell_type": "markdown",
   "metadata": {},
   "source": [
    "## 6. Mean Transfered Bytes per status code categories\n",
    "\n",
    "For an advanced exercise, let's determine the mean transfered bytes per status code category. Remember that :\n",
    "- Code beginning with a `2` means a request resulted in a successful response.\n",
    "- Code beginning with a `3` means a request resulted in a redirection.\n",
    "- Code beginning with a `4` means a request resulted in a client error.\n",
    "- Code beginning with a `5` means a request resulted in a server error.\n",
    "\n",
    "For every of these four category, compute the mean transfered bytes (content size).\n",
    "\n",
    "_Hint_ : There are many ways to compute the code category column including the use of an UDF. You can choose the method you prefer. Feel free to refer to spark documentation and StackOverflow posts in order to find functions or informations you are searching for."
   ]
  },
  {
   "cell_type": "code",
   "execution_count": 44,
   "metadata": {},
   "outputs": [
    {
     "data": {
      "text/plain": [
       "logs_df_with_code_category = [host: string, client_identd: string ... 8 more fields]\n",
       "logs_df_groupby_code_category = RelationalGroupedDataset: [grouping expressions: [code_category: string], value: [host: string, client_identd: string ... 8 more fields], type: GroupBy]\n",
       "logs_df_agg_content_size = [code_category: string, avg(content_size): double]\n",
       "content_size_per_code_category = List([3,20.586666666666666], [4,0.0], [2,17586.250270855904])\n"
      ]
     },
     "metadata": {},
     "output_type": "display_data"
    },
    {
     "data": {
      "text/plain": [
       "List([3,20.586666666666666], [4,0.0], [2,17586.250270855904])"
      ]
     },
     "execution_count": 44,
     "metadata": {},
     "output_type": "execute_result"
    }
   ],
   "source": [
    "// TODO: Replace ??? with appropriate code\n",
    "// Add a new colummn to logs_df contaning the code category. Assign the result to 'logs_df_with_code_category'.\n",
    "// Group the logs per 'code category' computed in first subtask. Assign the result to 'logs_df_groupby_code_category'.\n",
    "// Compute the content size mean per category and return the result to the driver. Assign the result \n",
    "// to 'content_size_per_code_category'.\n",
    "\n",
    "import org.apache.spark.sql.function._\n",
    "\n",
    "val logs_df_with_code_category = logs_df\n",
    "    .withColumn(\"code_category\", substring($\"response_code\".cast(\"string\"), 0, 1) )\n",
    "val logs_df_groupby_code_category = logs_df_with_code_category.groupBy(\"code_category\")\n",
    "val logs_df_agg_content_size = logs_df_groupby_code_category.agg(mean($\"content_size\"))\n",
    "val content_size_per_code_category = logs_df_agg_content_size.collect.toList"
   ]
  },
  {
   "cell_type": "code",
   "execution_count": null,
   "metadata": {},
   "outputs": [],
   "source": [
    "val round_result = content_size_per_code_category.map({case Row(x: Int,y: Double) => (x,(y*10).round/10.0)})\n",
    "assertEquals(content_size_per_code_category.length, 4, \"error : length has to be 4.\")\n",
    "assertEquals(round_result.toList, List((3, 14.4), (5, 10.4), (4, 0.0), (2, 19436.9)), \"incorrect mean size content per category.\")"
   ]
  },
  {
   "cell_type": "markdown",
   "metadata": {},
   "source": [
    "# Part 4 : Exploring 404 Response Codes\n",
    " \n",
    "Let's drill down and explore the error 404 response code records. 404 errors are returned when an endpoint is not found by the server (i.e., a missing page or object). During this part, you are free to complete the tasks using `Spark Core` and `access_logs` RDD or using `Spark SQL` and `logs-df` dataframe.\n",
    "\n",
    "_Note_ : Do not forget to cache your RDD / Dataframe in memory in order to reduce computing time."
   ]
  },
  {
   "cell_type": "markdown",
   "metadata": {},
   "source": [
    "## 1. Counting 404 Response Codes\n",
    " \n",
    "How many 404 records are there in the logs? Assign the result to variable `badRecords`."
   ]
  },
  {
   "cell_type": "code",
   "execution_count": null,
   "metadata": {},
   "outputs": [],
   "source": [
    "// TODO: Replace ??? with appropriate code\n",
    "\n",
    "badRecords = ???\n",
    "badRecords_count = ???\n",
    "\n",
    "println(s\"Found ${badRecordsSQL_count} 404 URLs\")"
   ]
  },
  {
   "cell_type": "code",
   "execution_count": null,
   "metadata": {},
   "outputs": [],
   "source": [
    "// TEST Counting 404 (4a)\n",
    "assertEquals(badRecords_count, 6185, \"incorrect badRecords_count.count()\")"
   ]
  },
  {
   "cell_type": "markdown",
   "metadata": {},
   "source": [
    "## 2. Listing The top-15 404 Response Code endpoints\n",
    "\n",
    "Get the top 15 endpoints that return 404 errors. Assign the result to variable `top_15_404`.\n",
    "\n",
    "_Note_ : variable `top_15_404` has to be a list only containing top 404 error endpoints.\n",
    "\n",
    "\n"
   ]
  },
  {
   "cell_type": "code",
   "execution_count": null,
   "metadata": {},
   "outputs": [],
   "source": [
    "// TODO: Replace ??? with appropriate code\n",
    "\n",
    "???\n",
    "\n",
    "println(s\"404 Top 15 URLS: ${top_15_404.mkString(\" \")}\")"
   ]
  },
  {
   "cell_type": "code",
   "execution_count": null,
   "metadata": {},
   "outputs": [],
   "source": [
    "// TEST Listing 404 records (4.2)\n",
    "assertEquals(top_15_404.length, 15, \"top_15_404 length has to be 15.\")\n",
    "assertEquals(top_15_404.toList, List(\"/pub/winvn/readme.txt\", \"/pub/winvn/release.txt\", \"/shuttle/missions/STS-69/mission-STS-69.html\", \"/images/nasa-logo.gif\", \"/elv/DELTA/uncons.htm\", \"/shuttle/missions/sts-68/ksc-upclose.gif\", \"/history/apollo/sa-1/sa-1-patch-small.gif\", \"/images/crawlerway-logo.gif\", \"/://spacelink.msfc.nasa.gov\", \"/history/apollo/pad-abort-test-1/pad-abort-test-1-patch-small.gif\", \"/history/apollo/a-001/a-001-patch-small.gif\", \"/images/Nasa-logo.gif\", \"/shuttle/resources/orbiters/atlantis.gif\", \"/history/apollo/images/little-joe.jpg\", \"/images/lf-logo.gif\"), \"top_15_404 not correct\")\n"
   ]
  },
  {
   "cell_type": "markdown",
   "metadata": {},
   "source": [
    "## 3. Listing the Top Twenty-five 404 Response Code Hosts\n",
    "\n",
    "Instead of looking at the endpoints that generated 404 errors, let's look at the hosts that encountered 404 errors. Using the RDD / Dataframe containing only log records with a 404 response code that you cached in part (4.1), print out a list of the top twenty-five hosts that generate the most 404 errors. Assign the result to variable `errHostsTop25` and return your results to the driver. \n",
    "\n"
   ]
  },
  {
   "cell_type": "code",
   "execution_count": null,
   "metadata": {},
   "outputs": [],
   "source": [
    "// TODO: Replace ??? with appropriate code\n",
    "\n",
    "???\n",
    "\n",
    "println(s\"Top 25 hosts that generated errors: ${errHostsTop25.mkString(\" \")}\")"
   ]
  },
  {
   "cell_type": "code",
   "execution_count": null,
   "metadata": {
    "scrolled": true
   },
   "outputs": [],
   "source": [
    "// TEST Top twenty-five 404 response code hosts (4.3)\n",
    "assertEquals(errHostsTop25.length, 25, \"length of errHostsTop25 is not 25\")\n",
    "assertEquals(errHostsTop25.toSet ,Set((\"maz3.maz.net\", 39), (\"piweba3y.prodigy.com\", 39), (\"gate.barr.com\", 38), (\"m38-370-9.mit.edu\", 37), (\"ts8-1.westwood.ts.ucla.edu\", 37), (\"nexus.mlckew.edu.au\", 37), (\"204.62.245.32\", 33), (\"163.206.104.34\", 27), (\"spica.sci.isas.ac.jp\", 27), (\"www-d4.proxy.aol.com\", 26), (\"www-c4.proxy.aol.com\", 25), (\"203.13.168.24\", 25), (\"203.13.168.17\", 25), (\"internet-gw.watson.ibm.com\", 24), (\"scooter.pa-x.dec.com\", 23), (\"crl5.crl.com\", 23), (\"piweba5y.prodigy.com\", 23), (\"onramp2-9.onr.com\", 22), (\"slip145-189.ut.nl.ibm.net\", 22), (\"198.40.25.102.sap2.artic.edu\", 21), (\"gn2.getnet.com\", 20), (\"msp1-16.nas.mr.net\", 20), (\"isou24.vilspa.esa.es\", 19), (\"dial055.mbnet.mb.ca\", 19), (\"tigger.nashscene.com\", 19)), \"incorrect errHostsTop25\")\n"
   ]
  },
  {
   "cell_type": "markdown",
   "metadata": {},
   "source": [
    "## 4. Listing 404 Response Codes per Day\n",
    "\n",
    "Let's explore the 404 records temporally. Break down the 404 requests by day (`cache()` the RDD `errDateSorted`) and get the daily counts sorted by day as a list. Assign the result to variable `errByDate` and return the result to driver.\n",
    "\n",
    "*Since the log only covers a single month, you can ignore the month in your checks.*\n",
    "\n"
   ]
  },
  {
   "cell_type": "code",
   "execution_count": null,
   "metadata": {},
   "outputs": [],
   "source": [
    "// TODO: Replace <FILL IN> with appropriate code\n",
    "\n",
    "???\n",
    "\n",
    "println(s\"404 Errors by day: ${errByDate.mkString(\" \")}\")"
   ]
  },
  {
   "cell_type": "code",
   "execution_count": null,
   "metadata": {},
   "outputs": [],
   "source": [
    "// TEST 404 response codes per day (4.4)\n",
    "assertEquals(errByDate.toList, List((1, 243), (3, 303), (4, 346), (5, 234), (6, 372), (7, 532), (8, 381), (9, 279), (10, 314), (11, 263), (12, 195), (13, 216), (14, 287), (15, 326), (16, 258), (17, 269), (18, 255), (19, 207), (20, 312), (21, 305), (22, 288)), \"incorrect errByDate\")"
   ]
  },
  {
   "cell_type": "markdown",
   "metadata": {},
   "source": [
    "## 5. Visualizing the 404 Response Codes by Day\n",
    "\n",
    "Using the results from the previous exercise, use `Vegas` to plot a \"Line\" or \"Bar\" graph of the 404 response codes by day."
   ]
  },
  {
   "cell_type": "code",
   "execution_count": null,
   "metadata": {},
   "outputs": [],
   "source": [
    "// TODO: Replace ??? with appropriate code\n",
    "val daysWithErrors404 = ???\n",
    "val errors404ByDay = ???"
   ]
  },
  {
   "cell_type": "code",
   "execution_count": null,
   "metadata": {},
   "outputs": [],
   "source": [
    "// TEST Visualizing the 404 Response Codes by Day (4f)\n",
    "assertEquals(daysWithErrors404.toList, List(1, 3, 4, 5, 6, 7, 8, 9, 10, 11, 12, 13, 14, 15, 16, 17, 18, 19, 20, 21, 22), \"incorrect daysWithErrors404\")\n",
    "assertEquals(errors404ByDay.toList, List(243, 303, 346, 234, 372, 532, 381, 279, 314, 263, 195, 216, 287, 326, 258, 269, 255, 207, 312, 305, 288), \"incorrect errors404ByDay\")"
   ]
  },
  {
   "cell_type": "code",
   "execution_count": null,
   "metadata": {},
   "outputs": [],
   "source": [
    "Vegas(\"404 Response Codes by Day\").\n",
    "  mark(Line).\n",
    "  withData(daysWithErrors404.zip(errors404ByDay).map(x => Map(\"Day\" -> x._1, \"404 errors\" -> x._2 ))).\n",
    "  encodeX(\"Day\", Nom).\n",
    "  encodeY(\"404 errors\", Quant).\n",
    "  show\n"
   ]
  },
  {
   "cell_type": "markdown",
   "metadata": {},
   "source": [
    "## 6. Hourly 404 Response Codes\n",
    "\n",
    "Using the RDD / Dataframe `badRecords` you cached in the part (4.1) and by hour of the day and in increasing order, create an RDD / Dataframe containing how many requests had a 404 return code for each hour of the day (midnight starts at 0). Cache the resulting RDD hourRecordsSorted. Assign the result to variable `errHourList`and don't forget to return the result to the driver.\n",
    "\n",
    "_Hint_ : Concerning the Spark SQL approach, multiple methods exist including the use of an UDF similar to exercise (3.4)."
   ]
  },
  {
   "cell_type": "code",
   "execution_count": null,
   "metadata": {},
   "outputs": [],
   "source": [
    "// TODO: Replace <FILL IN> with appropriate code\n",
    "\n",
    "???\n",
    "\n",
    "println(s\"Top hours for 404 requests: ${errHourList.mkString(\" \")}\")"
   ]
  },
  {
   "cell_type": "code",
   "execution_count": null,
   "metadata": {},
   "outputs": [],
   "source": [
    "// TEST Hourly 404 response codes (4h)\n",
    "assertEquals(errHourList.toList, List((0, 175), (1, 171), (2, 422), (3, 272), (4, 102), (5, 95), (6, 93), (7, 122), (8, 199), (9, 185), (10, 329), (11, 263), (12, 438), (13, 397), (14, 318), (15, 347), (16, 373), (17, 330), (18, 268), (19, 269), (20, 270), (21, 241), (22, 234), (23, 272)), \"incorrect errHourListCore\")"
   ]
  },
  {
   "cell_type": "markdown",
   "metadata": {},
   "source": [
    "## 7. Visualizing the 404 Response Codes by Hour\n",
    "\n",
    "Using the results from the previous exercise, use `Vegas` to plot a \"Line\" or \"Bar\" graph of the 404 response codes by hour.\n",
    "\n"
   ]
  },
  {
   "cell_type": "code",
   "execution_count": null,
   "metadata": {},
   "outputs": [],
   "source": [
    "// TODO: Replace <FILL IN> with appropriate code\n",
    "\n",
    "val hoursWithErrors404 = ???\n",
    "val errors404ByHours = ???"
   ]
  },
  {
   "cell_type": "code",
   "execution_count": null,
   "metadata": {},
   "outputs": [],
   "source": [
    "// TEST Visualizing the 404 Response Codes by Hour (4i)\n",
    "assertEquals(hoursWithErrors404.toList, List(0, 1, 2, 3, 4, 5, 6, 7, 8, 9, 10, 11, 12, 13, 14, 15, 16, 17, 18, 19, 20, 21, 22, 23), \"incorrect hoursWithErrors404\")\n",
    "assertEquals(errors404ByHours.toList, List(175, 171, 422, 272, 102, 95, 93, 122, 199, 185, 329, 263, 438, 397, 318, 347, 373, 330, 268, 269, 270, 241, 234, 272), \"incorrect errors404ByHours\")"
   ]
  },
  {
   "cell_type": "code",
   "execution_count": null,
   "metadata": {},
   "outputs": [],
   "source": [
    "Vegas(\"404 Response Codes by Hour\").\n",
    "  mark(Line).\n",
    "  withData(hoursWithErrors404.zip(errors404ByHours).map(x => Map(\"hour\" -> x._1, \"404 errors\" -> x._2 ))).\n",
    "  encodeX(\"hour\", Nom).\n",
    "  encodeY(\"404 errors\", Quant).\n",
    "  encodeDetailFields(Field(field=\"symbol\", dataType=Nominal)).\n",
    "  show\n"
   ]
  }
 ],
 "metadata": {
  "anaconda-cloud": {},
  "kernelspec": {
   "display_name": "Apache Toree - Scala",
   "language": "scala",
   "name": "apache_toree_scala"
  },
  "language_info": {
   "codemirror_mode": "text/x-scala",
   "file_extension": ".scala",
   "mimetype": "text/x-scala",
   "name": "scala",
   "pygments_lexer": "scala",
   "version": "2.11.12"
  },
  "latex_envs": {
   "LaTeX_envs_menu_present": true,
   "bibliofile": "biblio.bib",
   "cite_by": "apalike",
   "current_citInitial": 1,
   "eqLabelWithNumbers": true,
   "eqNumInitial": 0,
   "labels_anchors": false,
   "latex_user_defs": false
  },
  "nav_menu": {
   "height": "559px",
   "width": "420px"
  },
  "toc": {
   "navigate_menu": true,
   "number_sections": true,
   "sideBar": true,
   "threshold": 6,
   "toc_cell": false,
   "toc_section_display": "block",
   "toc_window_display": false
  }
 },
 "nbformat": 4,
 "nbformat_minor": 1
}
